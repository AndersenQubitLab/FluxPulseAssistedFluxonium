{
 "cells": [
  {
   "cell_type": "markdown",
   "metadata": {},
   "source": [
    "# Imports"
   ]
  },
  {
   "cell_type": "code",
   "execution_count": null,
   "metadata": {},
   "outputs": [],
   "source": [
    "import numpy as np\n",
    "import qutip as qtp\n",
    "import math\n",
    "import matplotlib as mpl\n",
    "import matplotlib.pyplot as plt\n",
    "from qutip import *\n",
    "from functools import cmp_to_key\n",
    "from tqdm.notebook import tqdm\n",
    "%matplotlib inline\n",
    "import ROfunctions as ro\n",
    "from ROfunctions import *"
   ]
  },
  {
   "cell_type": "markdown",
   "metadata": {},
   "source": [
    "# Define parameters and system Hamiltonian"
   ]
  },
  {
   "cell_type": "code",
   "execution_count": null,
   "metadata": {},
   "outputs": [],
   "source": [
    "#states will take the form |qubit> tensor |resonator>\n",
    "N = 30 #Hilbert space size for qubit\n",
    "M = 5 #Hilbert space size for resonator\n",
    "\n",
    "#ladder operators for qubit\n",
    "c = destroy(N)\n",
    "cdag = create(N)\n",
    "\n",
    "#ladder operators for resonator\n",
    "a = destroy(M)\n",
    "adag = create(M)\n",
    "\n",
    "#resonator number operator\n",
    "rnum = adag * a\n",
    "resonator_num = tensor(qeye(N), rnum)\n",
    "\n",
    "#energy parameters\n",
    "w = 7.0 #resonator frequency (GHz)\n",
    "\n",
    "Ej = 4.75 #Josephson energy of qubit (GHz)\n",
    "Ec = 1.25 #capacitive energy of qubit (GHz)\n",
    "El = 1.5 #inductive energy of qubit (GHz)\n",
    "\n",
    "g = 0.05 #coupling strength (GHz)\n",
    "\n",
    "#Hamiltonian terms\n",
    "H_lc = w * (adag * a + 1/2) #resonator/LC oscillator term\n",
    "\n",
    "coupling1 = tensor(c, adag)\n",
    "coupling2 = tensor(cdag, a)\n",
    "H_i = g * (coupling1 + coupling2) #interaction term\n",
    "\n",
    "phi_naught = ((8 * Ec) / El)**(1/4) #oscillator length\n",
    "n_op = (-1j / (math.sqrt(2) * phi_naught)) * (c - cdag) #charge operator\n",
    "phi_op = (phi_naught / math.sqrt(2)) * (c + cdag) #flux operator\n",
    "phi_op_HC = phi_op.dag() #Hermitian conjugate of flux operator\n",
    "\n",
    "Cterm = 4 * Ec * (n_op)**2\n",
    "Lterm = (1/2) * El * phi_op**2\n",
    "\n",
    "#Flux related\n",
    "mfq = 2 * np.pi #magnetic flux quantum\n",
    "phi_ext = np.linspace(0, mfq, 1001)"
   ]
  },
  {
   "cell_type": "markdown",
   "metadata": {},
   "source": [
    "# Dispersive shift as a function of external flux bias"
   ]
  },
  {
   "cell_type": "code",
   "execution_count": null,
   "metadata": {},
   "outputs": [],
   "source": [
    "qubitEdiff_r0 = []\n",
    "qubitEdiff_r1 = []\n",
    "resEdiff_q0 = []\n",
    "resEdiff_q1 = []\n",
    "chi = [] #MHz\n",
    "\n",
    "#loop over external flux\n",
    "for phi in phi_ext:\n",
    "    Jterm = -Ej * ((1/2) * ((1j * (phi_op - phi)).expm()) + (1/2) * ((-1j * (phi_op_HC - phi)).expm()))\n",
    "    H_flux = Jterm + Cterm + Lterm\n",
    "    H_sys = tensor(H_flux, qeye(M)) + tensor(qeye(N), H_lc) + H_i\n",
    "    states, energies, frequencies, chi_value, truncated_H = truncate_disshift(H_sys, resonator_num)\n",
    "    qubitEdiff_r0.append(frequencies[0].real)\n",
    "    qubitEdiff_r1.append(frequencies[1].real)\n",
    "    resEdiff_q0.append(frequencies[2].real)\n",
    "    resEdiff_q1.append(frequencies[3].real)\n",
    "    chi.append(chi_value.real * 1000)"
   ]
  },
  {
   "cell_type": "markdown",
   "metadata": {},
   "source": [
    "## Plotting"
   ]
  },
  {
   "cell_type": "code",
   "execution_count": null,
   "metadata": {},
   "outputs": [],
   "source": [
    "#1D plot of dispersive shift vs external flux\n",
    "fig, ax = plt.subplots(ncols=1, nrows=1, dpi=250)\n",
    "\n",
    "fig.subplots_adjust(bottom = 0.16, top=0.99, left=0.16, right=0.9, wspace=0.4, hspace=0.4)\n",
    "\n",
    "fig.set_size_inches(3.40457, 2.0)\n",
    "font = {'size' : 8}\n",
    "mpl.rc('font', **font)\n",
    "\n",
    "for axis in ['top','bottom','left','right']:\n",
    "    ax.spines[axis].set_linewidth(0.5)\n",
    "ax.tick_params(width=0.5, which='both')\n",
    "ax.tick_params(length=2.5, which='major')\n",
    "ax.tick_params(length=1.5, which='minor')\n",
    "\n",
    "ax.plot(phi_ext / mfq, np.array(chi), linewidth=1.25)\n",
    "\n",
    "ax.set_xlim(0, 1)\n",
    "ax.set_ylim(-15,15)\n",
    "\n",
    "ax.set_xlabel(r\"External Flux, $\\Phi_{ext}/\\Phi_0$\")\n",
    "ax.set_ylabel(r\"Dispersive Shift, $\\chi/2\\pi$ (MHz)\")\n"
   ]
  },
  {
   "cell_type": "code",
   "execution_count": null,
   "metadata": {},
   "outputs": [],
   "source": [
    "#1D plot of qubit frequency vs external flux\n",
    "fig, ax = plt.subplots(ncols=1, nrows=1, dpi=250)\n",
    "\n",
    "fig.subplots_adjust(bottom = 0.16, top=0.99, left=0.16, right=0.9, wspace=0.4, hspace=0.4)\n",
    "\n",
    "fig.set_size_inches(3.40457, 2.0)\n",
    "font = {'size' : 8}\n",
    "mpl.rc('font', **font)\n",
    "\n",
    "for axis in ['top','bottom','left','right']:\n",
    "    ax.spines[axis].set_linewidth(0.5)\n",
    "ax.tick_params(width=0.5, which='both')\n",
    "ax.tick_params(length=2.5, which='major')\n",
    "ax.tick_params(length=1.5, which='minor')\n",
    "\n",
    "ax.plot(phi_ext / mfq, np.array(qubitEdiff_r0), linewidth=1.25)\n",
    "\n",
    "ax.set_xlim(0, 1)\n",
    "ax.set_ylim(0,7)\n",
    "\n",
    "ax.set_xlabel(r\"External Flux, $\\Phi_{ext}/\\Phi_0$\")\n",
    "ax.set_ylabel(r\"Qubit Frequency, $\\omega_{10}/2\\pi$ (MHz)\")"
   ]
  },
  {
   "cell_type": "markdown",
   "metadata": {},
   "source": [
    "# 2D maps to see energy dependence"
   ]
  },
  {
   "cell_type": "markdown",
   "metadata": {},
   "source": [
    "### Constant $E_{J}$/$E_{C}$, $E_{J}$, and  $E_{C}$, and loop over $E_{L}$"
   ]
  },
  {
   "cell_type": "code",
   "execution_count": null,
   "metadata": {},
   "outputs": [],
   "source": [
    "Ec = 1\n",
    "Ej = 8\n",
    "\n",
    "Eind = np.linspace(0.15, 2.15, 101)\n",
    "phi_ext = np.linspace(0, mfq, 101)\n",
    "\n",
    "chi = np.zeros((len(Eind), len(phi_ext)))\n",
    "qubitEdiff_r0 = np.zeros((len(Eind), len(phi_ext)))\n",
    "\n",
    "for n, phi in enumerate(tqdm(phi_ext, desc = \"phi_ext loop\")):\n",
    "    for m, l in enumerate(tqdm(Eind, desc = \"El loop\")):\n",
    "        phi_naught = ((8 * Ec) / l)**(1/4)\n",
    "        n_op = (-1j / (math.sqrt(2) * phi_naught)) * (c - cdag)\n",
    "        phi_op = (phi_naught / math.sqrt(2)) * (c + cdag)\n",
    "        phi_op_HC = phi_op.dag()\n",
    "        Cterm = 4 * Ec * (n_op)**2\n",
    "        Lterm = (1/2) * l * phi_op**2\n",
    "        Jterm = -Ej * ((1/2) * ((1j * (phi_op - phi)).expm()) + (1/2) * ((-1j * (phi_op_HC - phi)).expm()))\n",
    "        H_flux = Jterm + Cterm + Lterm\n",
    "        H_sys = tensor(H_flux, qeye(M)) + tensor(qeye(N), H_lc) + H_i\n",
    "        states, energies, frequencies, chi_value, truncated_H = truncate_disshift(H_sys, resonator_num)\n",
    "        chi[m][n] = chi_value.real * 1000 #MHz\n",
    "        qubitEdiff_r0[m][n] = frequencies[0].real"
   ]
  },
  {
   "cell_type": "code",
   "execution_count": null,
   "metadata": {},
   "outputs": [],
   "source": [
    "fig, (ax1, ax2) = plt.subplots(1,2,figsize=(12,12))\n",
    "fig.subplots_adjust(bottom = 0.16, top=0.99, left=0.16, right=0.8, wspace=0.6)\n",
    "font = {'size' : 16}\n",
    "plt.rc('font', **font)\n",
    "\n",
    "im1 = ax1.imshow(chi, extent=[0,1,2.15,0.15], vmin=-10, vmax=10, cmap=plt.cm.RdBu)\n",
    "ax1.set_title(r\"$\\chi/2\\pi$ (MHz)\")\n",
    "fig.colorbar(im1, ax=ax1,fraction=0.02, pad=0.04)\n",
    "ax1.set_xlabel(r\"$\\Phi_{ext}/\\Phi_{0}$\")\n",
    "ax1.set_ylabel(r\"$E_{L}/2\\pi$ (GHz)\")\n",
    "ax1.set_aspect(0.5)\n",
    "\n",
    "im2 = ax2.imshow(qubitEdiff_r0, extent=[0,1,2.15,0.15], cmap=plt.cm.RdBu)\n",
    "ax2.set_title(r\"$\\omega_{01}/2\\pi$ (GHz)\")\n",
    "fig.colorbar(im2, ax=ax2,fraction=0.02, pad=0.04)\n",
    "ax2.set_xlabel(r\"$\\Phi_{ext}/\\Phi_{0}$\")\n",
    "ax2.set_aspect(0.5)\n",
    "plt.show()"
   ]
  },
  {
   "cell_type": "markdown",
   "metadata": {},
   "source": [
    "### Constant $E_{J}$/$E_{C}$ (=5), and $E_{L}$, and loop over $E_{J}$ and $E_{C}$"
   ]
  },
  {
   "cell_type": "code",
   "execution_count": null,
   "metadata": {},
   "outputs": [],
   "source": [
    "El = 0.5\n",
    "\n",
    "ratio = 5\n",
    "Ej = np.linspace(2.5, 7.5, 101)\n",
    "phi_ext = np.linspace(0, mfq, 101)\n",
    "\n",
    "chi = np.zeros((len(Ej), len(phi_ext)))\n",
    "qubitEdiff_r0 = np.zeros((len(Ej), len(phi_ext)))\n",
    "\n",
    "for n, phi in enumerate(tqdm(phi_ext, desc = \"phi_ext loop\")):\n",
    "    for m, j in enumerate(tqdm(Ej, desc = \"Ej loop\")):\n",
    "        phi_naught = ((8 * (j/ratio)) / El)**(1/4)\n",
    "        n_op = (-1j / (math.sqrt(2) * phi_naught)) * (c - cdag)\n",
    "        phi_op = (phi_naught / math.sqrt(2)) * (c + cdag)\n",
    "        phi_op_HC = phi_op.dag() \n",
    "        Cterm = 4 * (j/ratio) * (n_op)**2\n",
    "        Lterm = (1/2) * El * phi_op**2   \n",
    "        Jterm = -j * ((1/2) * ((1j * (phi_op - phi)).expm()) + (1/2) * ((-1j * (phi_op_HC - phi)).expm()))\n",
    "        H_flux = Jterm + Cterm + Lterm\n",
    "        H_sys = tensor(H_flux, qeye(M)) + tensor(qeye(N), H_lc) + H_i\n",
    "        states, energies, frequencies, chi_value, truncated_H = truncate_disshift(H_sys, resonator_num)\n",
    "        chi[m][n] = chi_value.real * 1000 #MHz\n",
    "        qubitEdiff_r0[m][n] = frequencies[0].real"
   ]
  },
  {
   "cell_type": "code",
   "execution_count": null,
   "metadata": {},
   "outputs": [],
   "source": [
    "fig, ax = plt.subplots(nrows=1,ncols=2,figsize=(12,12))\n",
    "fig.subplots_adjust(bottom = 0.16, top=0.99, left=0.16, right=0.8, wspace=0.6)\n",
    "font = {'size' : 16}\n",
    "plt.rc('font', **font)\n",
    "\n",
    "im00 = ax[0].imshow(chi, extent=[0,1,7.5,2.5], vmin=-10, vmax=10, cmap=plt.cm.RdBu)\n",
    "ax[0].set_title(r\"$\\chi/2\\pi$ (MHz)\")\n",
    "fig.colorbar(im00, ax=ax[0],fraction=0.02, pad=0.04)\n",
    "ax[0].set_xlabel(r\"$\\Phi_{ext}/\\Phi_{0}$\")\n",
    "ax[0].set_ylabel(r\"$E_{J}/2\\pi$ (GHz)\")\n",
    "ax[0].set_aspect(0.2)\n",
    "\n",
    "im01 = ax[1].imshow(qubitEdiff_r0, extent=[0,1,7.5,2.5], cmap=plt.cm.RdBu)\n",
    "ax[1].set_title(r\"$\\omega_{01}/2\\pi$ (GHz)\")\n",
    "fig.colorbar(im01, ax=ax[1],fraction=0.02, pad=0.04)\n",
    "ax[1].set_xlabel(r\"$\\Phi_{ext}/\\Phi_{0}$\")\n",
    "ax[1].set_aspect(0.2)\n",
    "\n",
    "plt.show()"
   ]
  },
  {
   "cell_type": "markdown",
   "metadata": {},
   "source": [
    "### Constant $E_{J}$ and $E_{L}$, and loop over $E_{C}$"
   ]
  },
  {
   "cell_type": "code",
   "execution_count": null,
   "metadata": {},
   "outputs": [],
   "source": [
    "El = 0.75\n",
    "Ej = 8\n",
    "\n",
    "Ec = np.linspace(0.5, 2.5, 101)\n",
    "phi_ext = np.linspace(0, mfq, 101)\n",
    "\n",
    "chi = np.zeros((len(Ec), len(phi_ext)))\n",
    "qubitEdiff_r0 = np.zeros((len(Ec), len(phi_ext)))\n",
    "\n",
    "for n, phi in enumerate(tqdm(phi_ext, desc = \"phi_ext loop\")):\n",
    "    for m, b in enumerate(tqdm(Ec, desc = \"Ec loop\")):\n",
    "        phi_naught = ((8 * b) / El)**(1/4)\n",
    "        n_op = (-1j / (math.sqrt(2) * phi_naught)) * (c - cdag)\n",
    "        phi_op = (phi_naught / math.sqrt(2)) * (c + cdag)\n",
    "        phi_op_HC = phi_op.dag()\n",
    "        Cterm = 4 * b * (n_op)**2\n",
    "        Lterm = (1/2) * El * phi_op**2\n",
    "        Jterm = -Ej * ((1/2) * ((1j * (phi_op - phi)).expm()) + (1/2) * ((-1j * (phi_op_HC - phi)).expm()))\n",
    "        H_flux = Jterm + Cterm + Lterm\n",
    "        H_sys = tensor(H_flux, qeye(M)) + tensor(qeye(N), H_lc) + H_i\n",
    "        states, energies, frequencies, chi_value, truncated_H = truncate_disshift(H_sys, resonator_num)\n",
    "        chi[m][n] = chi_value.real * 1000 #MHz\n",
    "        qubitEdiff_r0[m][n] = frequencies[0].real"
   ]
  },
  {
   "cell_type": "code",
   "execution_count": null,
   "metadata": {},
   "outputs": [],
   "source": [
    "fig, (ax1, ax2) = plt.subplots(1,2,figsize=(12,12))\n",
    "fig.subplots_adjust(bottom = 0.16, top=0.99, left=0.16, right=0.8, wspace=0.6)\n",
    "font = {'size' : 16}\n",
    "plt.rc('font', **font)\n",
    "\n",
    "im1 = ax1.imshow(chi, extent=[0,1,2.5,0.5], vmin=-10, vmax=10, cmap=plt.cm.RdBu)\n",
    "ax1.set_title(r\"$\\chi/2\\pi$ (MHz)\")\n",
    "fig.colorbar(im1, ax=ax1,fraction=0.02, pad=0.04)\n",
    "ax1.set_xlabel(r\"$\\Phi_{ext}/\\Phi_{0}$\")\n",
    "ax1.set_ylabel(r\"$E_{C}/2\\pi$ (GHz)\")\n",
    "ax1.set_aspect(0.5)\n",
    "\n",
    "im2 = ax2.imshow(qubitEdiff_r0, extent=[0,1,2.5,0.5], cmap=plt.cm.RdBu)\n",
    "ax2.set_title(r\"$\\omega_{01}/2\\pi$ (GHz)\")\n",
    "fig.colorbar(im2, ax=ax2,fraction=0.02, pad=0.04)\n",
    "ax2.set_xlabel(r\"$\\Phi_{ext}/\\Phi_{0}$\")\n",
    "ax2.set_aspect(0.5)\n",
    "\n",
    "plt.show()"
   ]
  },
  {
   "cell_type": "markdown",
   "metadata": {},
   "source": [
    "### Constant $E_{C}$ and $E_{L}$, and loop over $E_{J}$"
   ]
  },
  {
   "cell_type": "code",
   "execution_count": null,
   "metadata": {},
   "outputs": [],
   "source": [
    "Ec = 0.75\n",
    "El = 0.5\n",
    "\n",
    "Ej = np.linspace(3, 10, 101)\n",
    "phi_ext = np.linspace(0, mfq, 101)\n",
    "\n",
    "chi = np.zeros((len(Ej), len(phi_ext)))\n",
    "qubitEdiff_r0 = np.zeros((len(Ej), len(phi_ext)))\n",
    "\n",
    "for n, phi in enumerate(tqdm(phi_ext, desc = \"phi_ext loop\")):\n",
    "    for m, j in enumerate(tqdm(Ej, desc = \"Ej loop\")):\n",
    "        phi_naught = ((8 * Ec) / El)**(1/4)\n",
    "        n_op = (-1j / (math.sqrt(2) * phi_naught)) * (c - cdag)\n",
    "        phi_op = (phi_naught / math.sqrt(2)) * (c + cdag)\n",
    "        phi_op_HC = phi_op.dag()\n",
    "        Cterm = 4 * Ec * (n_op)**2\n",
    "        Lterm = (1/2) * El * phi_op**2\n",
    "        Jterm = -j * ((1/2) * ((1j * (phi_op - phi)).expm()) + (1/2) * ((-1j * (phi_op_HC - phi)).expm()))\n",
    "        H_flux = Jterm + Cterm + Lterm\n",
    "        H_sys = tensor(H_flux, qeye(M)) + tensor(qeye(N), H_lc) + H_i\n",
    "        states, energies, frequencies, chi_value, truncated_H = truncate_disshift(H_sys, resonator_num)\n",
    "        chi[m][n] = chi_value.real * 1000 #MHz\n",
    "        qubitEdiff_r0[m][n] = frequencies[0].real"
   ]
  },
  {
   "cell_type": "code",
   "execution_count": null,
   "metadata": {},
   "outputs": [],
   "source": [
    "fig, (ax1, ax2) = plt.subplots(1,2,figsize=(12,12))\n",
    "fig.subplots_adjust(bottom = 0.16, top=0.99, left=0.16, right=0.8, wspace=0.6)\n",
    "font = {'size' : 16}\n",
    "plt.rc('font', **font)\n",
    "\n",
    "im1 = ax1.imshow(chi, extent=[0,1,10,3], vmin=-10, vmax=10, cmap=plt.cm.RdBu)\n",
    "ax1.set_title(r\"$\\chi/2\\pi$ (MHz)\")\n",
    "fig.colorbar(im1, ax=ax1,fraction=0.02, pad=0.04)\n",
    "ax1.set_xlabel(r\"$\\Phi_{ext}/\\Phi_{0}$\")\n",
    "ax1.set_ylabel(r\"$E_{J}/2\\pi$ (GHz)\")\n",
    "ax1.set_aspect(1/7)\n",
    "\n",
    "im2 = ax2.imshow(qubitEdiff_r0, extent=[0,1,10,3], cmap=plt.cm.RdBu)\n",
    "ax2.set_title(r\"$\\omega_{01}/2\\pi$ (GHz)\")\n",
    "fig.colorbar(im2, ax=ax2,fraction=0.02, pad=0.04)\n",
    "ax2.set_xlabel(r\"$\\Phi_{ext}/\\Phi_{0}$\")\n",
    "ax2.set_aspect(1/7)\n",
    "plt.show()"
   ]
  }
 ],
 "metadata": {
  "kernelspec": {
   "display_name": "Python 3",
   "language": "python",
   "name": "python3"
  },
  "language_info": {
   "codemirror_mode": {
    "name": "ipython",
    "version": 3
   },
   "file_extension": ".py",
   "mimetype": "text/x-python",
   "name": "python",
   "nbconvert_exporter": "python",
   "pygments_lexer": "ipython3",
   "version": "3.8.8"
  },
  "toc": {
   "base_numbering": 1,
   "nav_menu": {},
   "number_sections": true,
   "sideBar": true,
   "skip_h1_title": false,
   "title_cell": "Table of Contents",
   "title_sidebar": "Contents",
   "toc_cell": false,
   "toc_position": {},
   "toc_section_display": true,
   "toc_window_display": true
  }
 },
 "nbformat": 4,
 "nbformat_minor": 4
}

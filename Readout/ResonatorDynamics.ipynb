{
 "cells": [
  {
   "cell_type": "markdown",
   "metadata": {},
   "source": [
    "# Imports"
   ]
  },
  {
   "cell_type": "code",
   "execution_count": null,
   "metadata": {},
   "outputs": [],
   "source": [
    "import numpy as np\n",
    "import qutip as qtp\n",
    "import math\n",
    "import cmath\n",
    "import matplotlib.pyplot as plt\n",
    "from qutip import *\n",
    "from tqdm.notebook import tqdm\n",
    "from scipy import interpolate\n",
    "from scipy.integrate import solve_ivp\n",
    "from scipy.integrate import quad\n",
    "%matplotlib inline\n",
    "import matplotlib.colors as colors\n",
    "import matplotlib as mpl\n",
    "from matplotlib import cm\n",
    "from matplotlib.colors import ListedColormap, LinearSegmentedColormap\n",
    "blues = cm.get_cmap('Blues', 10)\n",
    "import ROfunctions as ro\n",
    "from ROfunctions import *"
   ]
  },
  {
   "cell_type": "markdown",
   "metadata": {},
   "source": [
    "# Define parameters and system Hamiltonian to extract $\\chi$"
   ]
  },
  {
   "cell_type": "code",
   "execution_count": null,
   "metadata": {},
   "outputs": [],
   "source": [
    "N = 25 #qubit Hilbert space\n",
    "M = 10 #resonator Hilbert space\n",
    "\n",
    "#creation/annihilation operators in qubit subspace\n",
    "c = destroy(N)\n",
    "cdag = create(N)\n",
    "\n",
    "#creation/annihilation operators in resonator subspace\n",
    "a = destroy(M)\n",
    "adag = create(M)\n",
    "\n",
    "rnum = adag * a\n",
    "resonator_num = tensor(qeye(N), rnum)\n",
    "\n",
    "#fluxonium energy parameters (GHz)\n",
    "Ej = 4.75\n",
    "Ec = 1.25\n",
    "El = 1.5\n",
    "\n",
    "#resonator frequency (GHz)\n",
    "w = 7.0\n",
    "H_lc = w * (adag * a + 1/2)\n",
    "\n",
    "#qubit-resonator coupling strength (GHz)\n",
    "g = 0.05\n",
    "coupling1 = tensor(c, adag)\n",
    "coupling2 = tensor(cdag, a)\n",
    "H_i = g * (coupling1 + coupling2)\n",
    "\n",
    "#reduced charge and phase operators for fluxonium Hamiltonian\n",
    "phi_naught = ((8 * Ec) / El)**(1/4)\n",
    "n_op = (-1j / (math.sqrt(2) * phi_naught)) * (c - cdag)\n",
    "phi_op = (phi_naught / math.sqrt(2)) * (c + cdag)\n",
    "phi_op_HC = phi_op.dag()\n",
    "phi_ext = np.linspace(np.pi, 1.3*np.pi, 101)\n",
    "\n",
    "Cterm = 4 * Ec * (n_op)**2\n",
    "Lterm = (1/2) * El * phi_op**2\n",
    "\n",
    "qubitEdiff_r0 = []\n",
    "qubitEdiff_r1 = []\n",
    "resEdiff_q0 = []\n",
    "resEdiff_q1 = []\n",
    "chi = []\n",
    "\n",
    "#loop over flux bias defined by phi_ext\n",
    "for phi in phi_ext:\n",
    "    Jterm = -Ej * ((1/2) * ((1j * (phi_op - phi)).expm()) + (1/2) * ((-1j * (phi_op_HC - phi)).expm()))\n",
    "    H_flux = Jterm + Cterm + Lterm\n",
    "    H_sys = tensor(H_flux, qeye(M)) + tensor(qeye(N), H_lc) + H_i\n",
    "    states, energies, frequencies, chi_value, truncated_H = truncate_disshift(H_sys, resonator_num)\n",
    "    qubitEdiff_r0.append(frequencies[0].real)\n",
    "    qubitEdiff_r1.append(frequencies[1].real)\n",
    "    resEdiff_q0.append(frequencies[2].real)\n",
    "    resEdiff_q1.append(frequencies[3].real)\n",
    "    chi.append(chi_value.real * 1000)    "
   ]
  },
  {
   "cell_type": "code",
   "execution_count": null,
   "metadata": {},
   "outputs": [],
   "source": [
    "chi_hfqp = 2 * np.pi * chi[0]\n",
    "chi_readout = 2 * np.pi * chi[-7] #chosen to be at phi_ext = 0.641 based on other simulation results"
   ]
  },
  {
   "cell_type": "markdown",
   "metadata": {},
   "source": [
    "# Define global variables"
   ]
  },
  {
   "cell_type": "code",
   "execution_count": null,
   "metadata": {},
   "outputs": [],
   "source": [
    "n_readout = 10 #average cavity photon number\n",
    "kappa = 2 * np.pi * 5 #resonator linewidith"
   ]
  },
  {
   "cell_type": "markdown",
   "metadata": {},
   "source": [
    "# Interpolation for $\\chi$ vs $\\Phi_{ext}/\\Phi_{0}$"
   ]
  },
  {
   "cell_type": "code",
   "execution_count": null,
   "metadata": {},
   "outputs": [],
   "source": [
    "read_phi_ext = phi_ext[:-7] #array of flux bias points between sweet spot and readout\n",
    "read_chi = chi[:-7] #array of dispersive shift between sweet spot and readout\n",
    "chi_func_phi = interpolate.interp1d(read_phi_ext, read_chi) #chi as a function of external flux\n",
    "\n",
    "t = []\n",
    "for phi in read_phi_ext:\n",
    "    time = (0.05 / (0.282 * np.pi)) * (phi - np.pi)\n",
    "    t.append(time)\n",
    "    \n",
    "chi_func_t = interpolate.interp1d(t, read_chi, fill_value=\"extrapolate\") #chi as a function of time"
   ]
  },
  {
   "cell_type": "markdown",
   "metadata": {},
   "source": [
    "# Solve Langevin analytically during 50 ns flux pulse to get $\\alpha$"
   ]
  },
  {
   "cell_type": "code",
   "execution_count": null,
   "metadata": {},
   "outputs": [],
   "source": [
    "ep = math.sqrt(n_readout*(chi_readout**2 + (kappa)**2 / 4)) #epsilon - drive amplitude\n",
    "\n",
    "#solve differential equation to get alpha for two eigenstates (|0>, |1>)\n",
    "def alphadot_0(alpha, time):\n",
    "    dalpha0dt = -1j * 2 * np.pi * chi_func_t(time) * alpha - (1/2) * kappa * alpha + ep\n",
    "    return dalpha0dt\n",
    "\n",
    "def alphadot_1(alpha, time):\n",
    "    dalpha1dt = 1j * 2 * np.pi * chi_func_t(time) * alpha - (1/2) * kappa * alpha + ep\n",
    "    return dalpha1dt\n",
    "\n",
    "alpha_init = [0+0j]\n",
    "t_fp = np.linspace(0, 0.05, 501) #times during flux pulse\n",
    "\n",
    "sol_alpha0 = solve_ivp(lambda time, alpha: alphadot_0(alpha, time), [t_fp[0], t_fp[-1]], alpha_init, t_eval=t_fp)\n",
    "sol_alpha1 = solve_ivp(lambda time, alpha: alphadot_1(alpha, time), [t_fp[0], t_fp[-1]], alpha_init, t_eval=t_fp)\n",
    "\n",
    "alpha0solution = sol_alpha0.y[0]\n",
    "alpha1solution = sol_alpha1.y[0]"
   ]
  },
  {
   "cell_type": "markdown",
   "metadata": {},
   "source": [
    "# Transformation of $\\alpha$ to $\\alpha_{out}$ using interpolation during flux pulse"
   ]
  },
  {
   "cell_type": "code",
   "execution_count": null,
   "metadata": {},
   "outputs": [],
   "source": [
    "alpha_out_0 = []\n",
    "alpha_out_1 = []\n",
    "\n",
    "#calculation of alpha_out from alpha and alpha_in\n",
    "for a in alpha0solution:\n",
    "    aout0 = (-ep / math.sqrt(kappa)) + math.sqrt(kappa) * a\n",
    "    alpha_out_0.append(aout0)\n",
    "\n",
    "for b in alpha1solution:\n",
    "    aout1 = (-ep / math.sqrt(kappa)) + math.sqrt(kappa) * b\n",
    "    alpha_out_1.append(aout1)\n",
    "    \n",
    "aout0_func = interpolate.interp1d(t_fp, alpha_out_0, fill_value=\"extrapolate\")\n",
    "aout1_func = interpolate.interp1d(t_fp, alpha_out_1, fill_value=\"extrapolate\")\n",
    "\n",
    "#_fp indicates with flux pulse\n",
    "scaledSNR_fp = [] #scaled by average photon number population\n",
    "rawSNR_fp = []\n",
    "\n",
    "#integration to get measurement operator which allows for calculation of SNR\n",
    "for t in t_fp:\n",
    "    M_fp = []\n",
    "    tpts = np.linspace(0,t,1001)\n",
    "    for i in tpts:\n",
    "        alpha_zero = aout0_func(i)\n",
    "        alpha_one = aout1_func(i)\n",
    "        M_fp.append(alpha_zero-alpha_one)\n",
    "    SNRnumerator = np.sqrt(kappa)*abs(np.trapz(M_fp))*np.diff(tpts)[0]\n",
    "    SNRdenominator = math.sqrt(2 * kappa * t)\n",
    "    SNR_fp = SNRnumerator / SNRdenominator\n",
    "    rawSNR_fp.append(SNR_fp)\n",
    "    scaledSNR_fp.append(SNR_fp / math.sqrt(n_readout))"
   ]
  },
  {
   "cell_type": "markdown",
   "metadata": {},
   "source": [
    "# Solve Langevin equation for $\\alpha$ and calculate SNR post 50 ns flux pulse"
   ]
  },
  {
   "cell_type": "code",
   "execution_count": null,
   "metadata": {},
   "outputs": [],
   "source": [
    "def alphadot_0_ap(alpha, time): #after flux pulse\n",
    "    dalpha0dt_ap = -1j * chi_readout * alpha - (1/2) * kappa * alpha + ep\n",
    "    return dalpha0dt_ap\n",
    "\n",
    "def alphadot_1_ap(alpha, time): #after flux pulse\n",
    "    dalpha1dt_ap = 1j * chi_readout * alpha - (1/2) * kappa * alpha + ep\n",
    "    return dalpha1dt_ap\n",
    "\n",
    "#initial point defined as last point during flux pulse\n",
    "alpha_init_0 = [alpha0solution[-1]]\n",
    "alpha_init_1 = [alpha1solution[-1]]\n",
    "\n",
    "t_ap = np.linspace(0.05, 1, 1950) #times after flux pulse, up to 1 us\n",
    "\n",
    "#solve differential equation to get alpha\n",
    "sol_alpha0_ap = solve_ivp(lambda time, alpha: alphadot_0_ap(alpha, time), [t_ap[0], t_ap[-1]], alpha_init_0, t_eval=t_ap)\n",
    "sol_alpha1_ap = solve_ivp(lambda time, alpha: alphadot_1_ap(alpha, time), [t_ap[0], t_ap[-1]], alpha_init_1, t_eval=t_ap)\n",
    "\n",
    "alpha0solution_ap = sol_alpha0_ap.y[0]\n",
    "alpha1solution_ap = sol_alpha1_ap.y[0]\n",
    "\n",
    "aout0 = []\n",
    "aout1 = []\n",
    "\n",
    "#calculation of alpha_out from alpha and alpha_in\n",
    "for a in alpha0solution_ap:\n",
    "    alphaout0 = (-ep / math.sqrt(kappa)) + math.sqrt(kappa) * a\n",
    "    aout0.append(alphaout0)\n",
    "\n",
    "for b in alpha1solution_ap:\n",
    "    alphaout1 = (-ep / math.sqrt(kappa)) + math.sqrt(kappa) * b\n",
    "    aout1.append(alphaout1)\n",
    "    \n",
    "aout0_func_ap = interpolate.interp1d(t_ap, aout0, fill_value=\"extrapolate\")\n",
    "aout1_func_ap = interpolate.interp1d(t_ap, aout1, fill_value=\"extrapolate\")\n",
    "\n",
    "scaledSNR_ap = []\n",
    "rawSNR_ap = []\n",
    "\n",
    "#integration to get measurement operator which allows for calculation of SNR post flux pulse\n",
    "for t in t_ap:\n",
    "    M = []\n",
    "    tps = np.linspace(0,t,1001)\n",
    "    for tp in tps:\n",
    "        alpha_zero = aout0_func_ap(tp) if tp>0.05 else aout0_func(tp)\n",
    "        alpha_one = aout1_func_ap(tp) if tp>0.05 else aout1_func(tp)\n",
    "        M.append(alpha_zero-alpha_one)\n",
    "    SNRnum = np.sqrt(kappa) * abs(np.trapz(M)*np.diff(tps)[0])\n",
    "    SNRdenom = math.sqrt(2 * kappa * t)\n",
    "    SNR = SNRnum / SNRdenom\n",
    "    rawSNR_ap.append(SNR)\n",
    "    scaledSNR_ap.append(SNR / math.sqrt(n_readout))\n",
    "\n",
    "#concatenate time and SNR arrays to capture during and after flux pulse\n",
    "totalTime = np.concatenate((t_fp, t_ap))\n",
    "totalRawSNR = np.concatenate((rawSNR_fp, rawSNR_ap))\n",
    "totalScaledSNR = np.concatenate((scaledSNR_fp, scaledSNR_ap))"
   ]
  },
  {
   "cell_type": "markdown",
   "metadata": {},
   "source": [
    "# Calculate SNR for readout at sweet-spot for comparison"
   ]
  },
  {
   "cell_type": "code",
   "execution_count": null,
   "metadata": {},
   "outputs": [],
   "source": [
    "#for easy calculation of SNR with static chi\n",
    "def SNR(n_readout, kappa, chi, time):\n",
    "    epsilon = math.sqrt(n_readout*(chi**2 + (kappa)**2 / 4)) #drive amplitude\n",
    "    phi_qb = 2 * math.atan(2 * chi / kappa) #qubit induced phase of output field\n",
    "    scaledSNR = []\n",
    "    rawSNR = [] #scaled by average photon population of cavity\n",
    "    for t in time:\n",
    "        M = []\n",
    "        tps = np.linspace(0,t,1001)\n",
    "        for tp in tps:\n",
    "            alpha_plus = epsilon/np.sqrt(kappa)*np.exp(-1j*phi_qb)*(1-2*np.cos(0.5*phi_qb)*np.exp(-1j*chi*tp - 0.5*kappa*tp + 0.5*1j*phi_qb))\n",
    "            alpha_minus = epsilon/np.sqrt(kappa)*np.exp(1j*phi_qb)*(1-2*np.cos(0.5*phi_qb)*np.exp(1j*chi*tp - 0.5*kappa*tp - 0.5*1j*phi_qb))\n",
    "            M.append(alpha_plus-alpha_minus)\n",
    "    \n",
    "        SNRnum = np.sqrt(kappa)*abs(np.trapz(M))*np.diff(tps)[0]\n",
    "        SNRdenom = math.sqrt(2 * kappa * t)\n",
    "        SNR = SNRnum / SNRdenom\n",
    "        rawSNR.append(SNR)\n",
    "        scaledSNR.append(SNR / math.sqrt(n_readout))\n",
    "        \n",
    "    return scaledSNR, rawSNR"
   ]
  },
  {
   "cell_type": "code",
   "execution_count": null,
   "metadata": {},
   "outputs": [],
   "source": [
    "tau = np.linspace(0.01, 1, 99) #microseconds\n",
    "scaledSNR_hfqp, rawSNR_hfqp = SNR(n_readout, kappa, chi_hfqp, tau)"
   ]
  },
  {
   "cell_type": "markdown",
   "metadata": {},
   "source": [
    "# Calculate readout fidelity/error"
   ]
  },
  {
   "cell_type": "code",
   "execution_count": null,
   "metadata": {},
   "outputs": [],
   "source": [
    "fidelity_hfqp = []\n",
    "error_hfqp = []\n",
    "fidelity_pulse = []\n",
    "error_pulse = []\n",
    "\n",
    "#readout at sweet-spot\n",
    "for i in rawSNR_hfqp:\n",
    "    fid = (1 - (math.erfc(i/2)/2))\n",
    "    fidelity_hfqp.append(fid)\n",
    "    error = (math.erfc(i/2)/2)\n",
    "    error_hfqp.append(error)\n",
    "#readout with flux pulse\n",
    "for i in totalRawSNR:\n",
    "    fid = (1 - (math.erfc(i/2)/2))\n",
    "    fidelity_pulse.append(fid)\n",
    "    error = (math.erfc(i/2)/2)\n",
    "    error_pulse.append(error)"
   ]
  },
  {
   "cell_type": "markdown",
   "metadata": {},
   "source": [
    "# Adding <100% measurement efficiency"
   ]
  },
  {
   "cell_type": "code",
   "execution_count": null,
   "metadata": {},
   "outputs": [],
   "source": [
    "eta = 0.25\n",
    "snr_loweff = np.sqrt(eta)*totalRawSNR\n",
    "\n",
    "error_loweff = []\n",
    "\n",
    "for i in snr_loweff:\n",
    "    error = (math.erfc(i/2)/2)\n",
    "    error_loweff.append(error)"
   ]
  },
  {
   "cell_type": "code",
   "execution_count": null,
   "metadata": {},
   "outputs": [],
   "source": [
    "fig, (ax1, ax2) = plt.subplots(ncols=1, nrows=2, dpi=250, sharex=True)\n",
    "\n",
    "fig.subplots_adjust(bottom = 0.16, top=0.99, left=0.16, right=0.9, wspace=0.4, hspace=0.25)\n",
    "fig.set_size_inches(3.40457, 3.0)\n",
    "font = {'size' : 8}\n",
    "mpl.rc('font', **font)\n",
    "\n",
    "ax1.plot(tau * 1000, rawSNR_hfqp, label = \"$\\Phi_{ext}/\\Phi_{0}$=0.5, $\\eta = 1$\", color=\"tab:red\", linewidth=1.5)\n",
    "ax1.plot(totalTime * 1000, snr_loweff, '--', label = \"$\\chi$($\\phi_{ext}$(t)), $\\eta = 0.25$\", color=blues(0.35), linewidth=1.5)\n",
    "ax1.plot(totalTime * 1000, totalRawSNR, label = \"$\\chi$($\\phi_{ext}$(t)), $\\eta = 1$\", color=blues(0.75), linewidth=1.5)\n",
    "ax1.set_ylabel(r\"SNR\")\n",
    "ax1.set_xlim(0, 200)\n",
    "ax1.set_ylim(0, 10)\n",
    "ax1.set_yticks([0.0, 2.5, 5.0, 7.5, 10.0])\n",
    "ax1.tick_params(axis='y', pad=4)\n",
    "ax1.tick_params(axis='x', which='both', bottom=False, top=False, labelbottom=False)\n",
    "ax1.legend(loc='lower left', bbox_to_anchor=(-0.02, 0.42), handletextpad=0.2, frameon=False)\n",
    "ax1.annotate(\"(a)\", xy=(0.01, 1.05), xycoords=\"axes fraction\")\n",
    "\n",
    "ax2.plot(tau * 1000, error_hfqp, label = \"$\\Phi_{ext}/\\Phi_{0}$=0.5, $\\eta = 1$\", color=\"tab:red\", linewidth=1.5)\n",
    "ax2.plot(totalTime * 1000, error_loweff, '--', label = \"$\\chi$($\\phi_{ext}$,(t)), $\\eta = 0.25$\", color=blues(0.35), linewidth=1.5)\n",
    "ax2.plot(totalTime * 1000, error_pulse, label = \"$\\chi$($\\phi$,(t)), $\\eta = 1$\", color=blues(0.75), linewidth=1.5)\n",
    "ax2.set_ylabel(r\"Readout Error\")\n",
    "ax2.set_xlabel(r\"Integration Time, $\\tau$ (ns)\")\n",
    "ax2.set_xlim(0, 200) #nanoseconds\n",
    "ax2.set_yscale(\"log\")\n",
    "ax2.set_ylim(1e-6, 1)\n",
    "ax2.tick_params(axis='y', pad=1.5)\n",
    "ax2.set_xticks([0, 25, 50, 75, 100, 125, 150, 175, 200])\n",
    "ax2.set_xticklabels([0, 25, 50, 75, 100, 125, 150, 175, 200])\n",
    "ax2.annotate(\"(b)\", xy=(0.01, 1.05), xycoords=\"axes fraction\")\n",
    "\n",
    "plt.show()"
   ]
  }
 ],
 "metadata": {
  "kernelspec": {
   "display_name": "Python 3",
   "language": "python",
   "name": "python3"
  },
  "language_info": {
   "codemirror_mode": {
    "name": "ipython",
    "version": 3
   },
   "file_extension": ".py",
   "mimetype": "text/x-python",
   "name": "python",
   "nbconvert_exporter": "python",
   "pygments_lexer": "ipython3",
   "version": "3.8.8"
  }
 },
 "nbformat": 4,
 "nbformat_minor": 4
}

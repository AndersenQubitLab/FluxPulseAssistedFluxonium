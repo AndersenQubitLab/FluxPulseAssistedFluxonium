{
 "cells": [
  {
   "cell_type": "markdown",
   "metadata": {},
   "source": [
    "# Imports and definitions"
   ]
  },
  {
   "cell_type": "code",
   "execution_count": null,
   "metadata": {},
   "outputs": [],
   "source": [
    "import numpy as np\n",
    "import qutip as qtp\n",
    "import math\n",
    "import cmath\n",
    "import matplotlib.pyplot as plt\n",
    "from qutip import *\n",
    "from tqdm.notebook import tqdm\n",
    "from scipy import interpolate\n",
    "from scipy.integrate import solve_ivp\n",
    "from scipy.integrate import quad\n",
    "%matplotlib inline\n",
    "import matplotlib.colors as colors\n",
    "import matplotlib as mpl\n",
    "from matplotlib import cm\n",
    "from matplotlib.colors import ListedColormap, LinearSegmentedColormap\n",
    "blues = mpl.colormaps['Blues']\n",
    "reds = mpl.colormaps['Reds']\n",
    "import ROfunctions as ro\n",
    "from ROfunctions import *\n",
    "import scqubits as scq\n",
    "from scipy import constants"
   ]
  },
  {
   "cell_type": "markdown",
   "metadata": {},
   "source": [
    "## Define parameters and system Hamiltonian to extract $\\chi$"
   ]
  },
  {
   "cell_type": "code",
   "execution_count": null,
   "metadata": {},
   "outputs": [],
   "source": [
    "N = 25 #qubit Hilbert space\n",
    "M = 10 #resonator Hilbert space\n",
    "\n",
    "#creation/annihilation operators in qubit subspace\n",
    "c = destroy(N)\n",
    "cdag = create(N)\n",
    "\n",
    "#creation/annihilation operators in resonator subspace\n",
    "a = destroy(M)\n",
    "adag = create(M)\n",
    "\n",
    "rnum = adag * a\n",
    "resonator_num = tensor(qeye(N), rnum)\n",
    "\n",
    "#fluxonium energy parameters (GHz)\n",
    "Ej = 4.75\n",
    "Ec = 1.25\n",
    "El = 1.5\n",
    "\n",
    "#resonator frequency (GHz)\n",
    "w = 7.0\n",
    "H_lc = w * (adag * a + 1/2)\n",
    "\n",
    "#qubit-resonator coupling strength (GHz)\n",
    "g = 0.05\n",
    "coupling1 = tensor(c, adag)\n",
    "coupling2 = tensor(cdag, a)\n",
    "H_i = g * (coupling1 + coupling2)\n",
    "\n",
    "#reduced charge and phase operators for fluxonium Hamiltonian\n",
    "phi_naught = ((8 * Ec) / El)**(1/4)\n",
    "n_op = (-1j / (math.sqrt(2) * phi_naught)) * (c - cdag)\n",
    "phi_op = (phi_naught / math.sqrt(2)) * (c + cdag)\n",
    "phi_op_HC = phi_op.dag()\n",
    "phi_ext = np.linspace(np.pi, 1.3*np.pi, 101)\n",
    "\n",
    "Cterm = 4 * Ec * (n_op)**2\n",
    "Lterm = (1/2) * El * phi_op**2\n",
    "\n",
    "qubitEdiff_r0 = []\n",
    "qubitEdiff_r1 = []\n",
    "resEdiff_q0 = []\n",
    "resEdiff_q1 = []\n",
    "chi = []\n",
    "\n",
    "#loop over flux bias defined by phi_ext\n",
    "for phi in phi_ext:\n",
    "    Jterm = -Ej * ((1/2) * ((1j * (phi_op - phi)).expm()) + (1/2) * ((-1j * (phi_op_HC - phi)).expm()))\n",
    "    H_flux = Jterm + Cterm + Lterm\n",
    "    H_sys = tensor(H_flux, qeye(M)) + tensor(qeye(N), H_lc) + H_i\n",
    "    states, energies, frequencies, chi_value, truncated_H = truncate_disshift(H_sys, resonator_num)\n",
    "    qubitEdiff_r0.append(frequencies[0].real)\n",
    "    qubitEdiff_r1.append(frequencies[1].real)\n",
    "    resEdiff_q0.append(frequencies[2].real)\n",
    "    resEdiff_q1.append(frequencies[3].real)\n",
    "    chi.append(chi_value.real * 1000)    "
   ]
  },
  {
   "cell_type": "markdown",
   "metadata": {},
   "source": [
    "## Define global variables"
   ]
  },
  {
   "cell_type": "code",
   "execution_count": null,
   "metadata": {},
   "outputs": [],
   "source": [
    "n_readout = 10 #average cavity photon number\n",
    "kappa = 2 * np.pi * 5 #resonator linewidith, 2*pi*MHz"
   ]
  },
  {
   "cell_type": "code",
   "execution_count": null,
   "metadata": {},
   "outputs": [],
   "source": [
    "chi_hfqp = 2 * np.pi * chi[0] #2*pi*MHz\n",
    "chi_readout = 2 * np.pi * chi[-7] #2*pi*MHz, chosen to be at Phi_ext/Phi_0 = 0.641 based on other simulation results"
   ]
  },
  {
   "cell_type": "markdown",
   "metadata": {},
   "source": [
    "# Calculation of SNR for static and flux-pulse-assisted readout"
   ]
  },
  {
   "cell_type": "markdown",
   "metadata": {},
   "source": [
    "## Calculate SNR for readout at sweet-spot for comparison"
   ]
  },
  {
   "cell_type": "code",
   "execution_count": null,
   "metadata": {},
   "outputs": [],
   "source": [
    "tau = np.linspace(0.01, 1, 100) #microseconds\n",
    "scaledSNR_hfqp, rawSNR_hfqp = SNR(n_readout, kappa, chi_hfqp, tau)"
   ]
  },
  {
   "cell_type": "markdown",
   "metadata": {},
   "source": [
    "## Interpolation for $\\chi$ vs $\\Phi_{ext}/\\Phi_{0}$"
   ]
  },
  {
   "cell_type": "code",
   "execution_count": null,
   "metadata": {},
   "outputs": [],
   "source": [
    "ramp_duration = 0.05 #time duration of flux pulse ramp in us"
   ]
  },
  {
   "cell_type": "code",
   "execution_count": null,
   "metadata": {},
   "outputs": [],
   "source": [
    "read_phi_ext = phi_ext[:-6] #array of flux bias points between sweet spot and readout\n",
    "read_chi = chi[:-6] #array of dispersive shift between sweet spot and readout\n",
    "chi_func_phi = interpolate.interp1d(read_phi_ext, read_chi) #chi as a function of external flux\n",
    "\n",
    "t = []\n",
    "for phi in read_phi_ext:\n",
    "    time = (ramp_duration / (0.282 * np.pi)) * (phi - np.pi)\n",
    "    t.append(time)\n",
    "    \n",
    "chi_func_t = interpolate.interp1d(t, read_chi, fill_value=\"extrapolate\") #chi as a function of time"
   ]
  },
  {
   "cell_type": "markdown",
   "metadata": {},
   "source": [
    "## Solve Langevin equation analytically during 50 ns flux pulse ramping to get $\\alpha$"
   ]
  },
  {
   "cell_type": "code",
   "execution_count": null,
   "metadata": {},
   "outputs": [],
   "source": [
    "ep = math.sqrt(n_readout*(chi_readout**2 + (kappa)**2 / 4)) #epsilon --> drive amplitude\n",
    "\n",
    "#solve differential equation to get alpha for two eigenstates (|0>, |1>)\n",
    "def alphadot_0(alpha, time):\n",
    "    dalpha0dt = -1j * 2 * np.pi * chi_func_t(time) * alpha - (1/2) * kappa * alpha + ep*(time/ramp_duration)**2\n",
    "    return dalpha0dt\n",
    "\n",
    "def alphadot_1(alpha, time):\n",
    "    dalpha1dt = 1j * 2 * np.pi * chi_func_t(time) * alpha - (1/2) * kappa * alpha + ep*(time/ramp_duration)**2\n",
    "    return dalpha1dt\n",
    "\n",
    "alpha_init = [0+0j]\n",
    "t_ramp = np.linspace(0, ramp_duration, 101) #times during flux pulse ramp\n",
    "\n",
    "sol_alpha0 = solve_ivp(lambda time, alpha: alphadot_0(alpha, time), [t_ramp[0], t_ramp[-1]], alpha_init, t_eval=t_ramp)\n",
    "sol_alpha1 = solve_ivp(lambda time, alpha: alphadot_1(alpha, time), [t_ramp[0], t_ramp[-1]], alpha_init, t_eval=t_ramp)\n",
    "\n",
    "alpha0solution = sol_alpha0.y[0]\n",
    "alpha1solution = sol_alpha1.y[0]"
   ]
  },
  {
   "cell_type": "markdown",
   "metadata": {},
   "source": [
    "## Transformation of $\\alpha$ to $\\alpha_{out}$ using interpolation during flux pulse ramp"
   ]
  },
  {
   "cell_type": "code",
   "execution_count": null,
   "metadata": {},
   "outputs": [],
   "source": [
    "alpha_out_0 = []\n",
    "alpha_out_1 = []\n",
    "\n",
    "#calculation of alpha_out from alpha and alpha_in\n",
    "for i, a in enumerate(alpha0solution):\n",
    "    ep_td = ep*(t_ramp[i]/ramp_duration)**2\n",
    "    aout0 = (-ep_td / math.sqrt(kappa)) + math.sqrt(kappa) * a\n",
    "    alpha_out_0.append(aout0)\n",
    "\n",
    "for j, b in enumerate(alpha1solution):\n",
    "    ep_td = ep*(t_ramp[j]/ramp_duration)**2\n",
    "    aout1 = (-ep_td / math.sqrt(kappa)) + math.sqrt(kappa) * b\n",
    "    alpha_out_1.append(aout1)\n",
    "    \n",
    "aout0_func = interpolate.interp1d(t_ramp, alpha_out_0, fill_value=\"extrapolate\")\n",
    "aout1_func = interpolate.interp1d(t_ramp, alpha_out_1, fill_value=\"extrapolate\")\n",
    "\n",
    "#_ramp indicates during flux pulse ramping\n",
    "scaledSNR_ramp = [] #scaled by average photon number population\n",
    "rawSNR_ramp = []\n",
    "\n",
    "#integration to get measurement operator which allows for calculation of SNR\n",
    "for t in t_ramp:\n",
    "    M_ramp = []\n",
    "    tpts = np.linspace(0,t,1001)\n",
    "    for i in tpts:\n",
    "        alpha_zero = aout0_func(i)\n",
    "        alpha_one = aout1_func(i)\n",
    "        M_ramp.append(alpha_zero-alpha_one)\n",
    "    SNRnumerator = np.sqrt(kappa)*abs(np.trapz(M_ramp))*np.diff(tpts)[0]\n",
    "    SNRdenominator = math.sqrt(kappa * t)\n",
    "    SNR_ramp = SNRnumerator / SNRdenominator\n",
    "    rawSNR_ramp.append(SNR_ramp)\n",
    "    scaledSNR_ramp.append(SNR_ramp / math.sqrt(n_readout))"
   ]
  },
  {
   "cell_type": "markdown",
   "metadata": {},
   "source": [
    "## Solve Langevin equation for $\\alpha$ and calculate SNR after flux pulse has reached its maximum amplitude at $\\Phi_{ext}/\\Phi_{0}$ = 0.641"
   ]
  },
  {
   "cell_type": "code",
   "execution_count": null,
   "metadata": {},
   "outputs": [],
   "source": [
    "def alphadot_0_fp(alpha, time): #while flux pulse is on, keeping qubit at readout point\n",
    "    dalpha0dt_fp = -1j * chi_readout * alpha - (1/2) * kappa * alpha + ep\n",
    "    return dalpha0dt_fp\n",
    "\n",
    "def alphadot_1_fp(alpha, time): #after flux pulse\n",
    "    dalpha1dt_fp = 1j * chi_readout * alpha - (1/2) * kappa * alpha + ep\n",
    "    return dalpha1dt_fp\n",
    "\n",
    "#initial point defined as last point during flux pulse ramp\n",
    "alpha_init_0 = [alpha0solution[-1]]\n",
    "alpha_init_1 = [alpha1solution[-1]]\n",
    "\n",
    "t_fp = np.linspace(ramp_duration, 1, 1901) #once flux pulse has reached max amplitude, up to 1 us\n",
    "\n",
    "#solve differential equation to get alpha\n",
    "sol_alpha0_fp = solve_ivp(lambda time, alpha: alphadot_0_fp(alpha, time), [t_fp[0], t_fp[-1]], alpha_init_0, t_eval=t_fp)\n",
    "sol_alpha1_fp = solve_ivp(lambda time, alpha: alphadot_1_fp(alpha, time), [t_fp[0], t_fp[-1]], alpha_init_1, t_eval=t_fp)\n",
    "\n",
    "alpha0solution_fp = sol_alpha0_fp.y[0]\n",
    "alpha1solution_fp = sol_alpha1_fp.y[0]\n",
    "\n",
    "aout0 = []\n",
    "aout1 = []\n",
    "\n",
    "#calculation of alpha_out from alpha and alpha_in\n",
    "for a in alpha0solution_fp:\n",
    "    alphaout0 = (-ep / math.sqrt(kappa)) + math.sqrt(kappa) * a\n",
    "    aout0.append(alphaout0)\n",
    "\n",
    "for b in alpha1solution_fp:\n",
    "    alphaout1 = (-ep / math.sqrt(kappa)) + math.sqrt(kappa) * b\n",
    "    aout1.append(alphaout1)\n",
    "    \n",
    "aout0_func_fp = interpolate.interp1d(t_fp, aout0, fill_value=\"extrapolate\")\n",
    "aout1_func_fp = interpolate.interp1d(t_fp, aout1, fill_value=\"extrapolate\")\n",
    "\n",
    "scaledSNR_fp = []\n",
    "rawSNR_fp = []\n",
    "\n",
    "#integration to get measurement operator which allows for calculation of SNR during flux pulse at max amplitude\n",
    "for t in t_fp:\n",
    "    M = []\n",
    "    tps = np.linspace(0,t,1001)\n",
    "    for tp in tps:\n",
    "        alpha_zero = aout0_func_fp(tp) if tp>0.05 else aout0_func(tp)\n",
    "        alpha_one = aout1_func_fp(tp) if tp>0.05 else aout1_func(tp)\n",
    "        M.append(alpha_zero-alpha_one)\n",
    "    SNRnum = np.sqrt(kappa) * abs(np.trapz(M)*np.diff(tps)[0])\n",
    "    SNRdenom = math.sqrt(kappa * t)\n",
    "    SNR = SNRnum / SNRdenom\n",
    "    rawSNR_fp.append(SNR)\n",
    "    scaledSNR_fp.append(SNR / math.sqrt(n_readout))\n",
    "\n",
    "#concatenate time and SNR arrays to capture during and after flux pulse\n",
    "totalTime = np.concatenate((t_ramp, t_fp))\n",
    "totalRawSNR = np.concatenate((rawSNR_ramp, rawSNR_fp))\n",
    "totalScaledSNR = np.concatenate((scaledSNR_ramp, scaledSNR_fp))"
   ]
  },
  {
   "cell_type": "markdown",
   "metadata": {},
   "source": [
    "# Conversion to readout error and visualization"
   ]
  },
  {
   "cell_type": "code",
   "execution_count": null,
   "metadata": {},
   "outputs": [],
   "source": [
    "fidelity_hfqp = []\n",
    "error_hfqp = []\n",
    "fidelity_pulse = []\n",
    "error_pulse = []\n",
    "\n",
    "#readout at sweet-spot\n",
    "for i in rawSNR_hfqp:\n",
    "    fid = (1 - (math.erfc(i/2)/2))\n",
    "    fidelity_hfqp.append(fid)\n",
    "    error = (math.erfc(i/2)/2)\n",
    "    error_hfqp.append(error)\n",
    "#readout with flux pulse\n",
    "for i in totalRawSNR:\n",
    "    fid = (1 - (math.erfc(i/2)/2))\n",
    "    fidelity_pulse.append(fid)\n",
    "    error = (math.erfc(i/2)/2)\n",
    "    error_pulse.append(error)"
   ]
  },
  {
   "cell_type": "markdown",
   "metadata": {},
   "source": [
    "## Adding <100% measurement efficiency"
   ]
  },
  {
   "cell_type": "code",
   "execution_count": null,
   "metadata": {},
   "outputs": [],
   "source": [
    "eta = 0.25\n",
    "snr_loweff = np.sqrt(eta)*totalRawSNR\n",
    "\n",
    "error_loweff = []\n",
    "\n",
    "for i in snr_loweff:\n",
    "    error = (math.erfc(i/2)/2)\n",
    "    error_loweff.append(error)"
   ]
  },
  {
   "cell_type": "markdown",
   "metadata": {},
   "source": [
    "## Plotting"
   ]
  },
  {
   "cell_type": "code",
   "execution_count": null,
   "metadata": {},
   "outputs": [],
   "source": [
    "fig, (ax1, ax2) = plt.subplots(ncols=1, nrows=2, dpi=250, sharex=True)\n",
    "\n",
    "fig.subplots_adjust(bottom = 0.16, top=0.99, left=0.16, right=0.9, wspace=0.4, hspace=0.25)\n",
    "fig.set_size_inches(3.40457, 3.0)\n",
    "font = {'size' : 8}\n",
    "mpl.rc('font', **font)\n",
    "\n",
    "ax1.plot(tau * 1000, rawSNR_hfqp, label = \"$\\Phi_{ext}/\\Phi_{0}$=0.5, $\\eta = 1$\", color=\"tab:red\", linewidth=1.5)\n",
    "ax1.plot(totalTime * 1000, snr_loweff, label = \"$\\chi$($\\phi_{ext}$(t)), $\\eta = 0.25$\", color=blues(0.35), linewidth=1.5)\n",
    "ax1.plot(totalTime * 1000, totalRawSNR, label = \"$\\chi$($\\phi_{ext}$(t)), $\\eta = 1$\", color=blues(0.75), linewidth=1.5)\n",
    "ax1.set_ylabel(r\"SNR\")\n",
    "ax1.set_xlim(0, 200)\n",
    "ax1.set_ylim(0, 15)\n",
    "ax1.set_yticks([0.0, 5.0, 10.0, 15.0])\n",
    "ax1.tick_params(axis='y', pad=4)\n",
    "ax1.tick_params(axis='x', which='both', bottom=False, top=False, labelbottom=False)\n",
    "ax1.legend(loc='lower left', bbox_to_anchor=(-0.02, 0.42), handletextpad=0.2, frameon=False)\n",
    "ax1.annotate(\"(a)\", xy=(0.01, 1.05), xycoords=\"axes fraction\")\n",
    "\n",
    "ax2.plot(tau * 1000, error_hfqp, label = \"$\\Phi_{ext}/\\Phi_{0}$=0.5, $\\eta = 1$\", color=\"tab:red\", linewidth=1.5)\n",
    "ax2.plot(totalTime * 1000, error_loweff, label = \"$\\chi$($\\phi_{ext}$,(t)), $\\eta = 0.25$\", color=blues(0.35), linewidth=1.5)\n",
    "ax2.plot(totalTime * 1000, error_pulse, label = \"$\\chi$($\\phi$,(t)), $\\eta = 1$\", color=blues(0.75), linewidth=1.5)\n",
    "ax2.set_ylabel(r\"Readout Error\")\n",
    "ax2.set_xlabel(r\"Integration Time, $\\tau$ (ns)\")\n",
    "ax2.set_xlim(0, 200) #nanoseconds\n",
    "ax2.set_yscale(\"log\")\n",
    "ax2.set_ylim(1e-9, 1)\n",
    "ax2.tick_params(axis='y', pad=1.5)\n",
    "ax2.set_xticks([0, 25, 50, 75, 100, 125, 150, 175, 200])\n",
    "ax2.set_xticklabels([0, 25, 50, 75, 100, 125, 150, 175, 200])\n",
    "ax2.annotate(\"(b)\", xy=(0.01, 1.05), xycoords=\"axes fraction\")\n",
    "\n",
    "plt.show()"
   ]
  },
  {
   "cell_type": "markdown",
   "metadata": {},
   "source": [
    "# Calculate error from Purcell decay"
   ]
  },
  {
   "cell_type": "markdown",
   "metadata": {},
   "source": [
    "## Get bare detuning, $\\Delta_{10}$, as a function of time"
   ]
  },
  {
   "cell_type": "code",
   "execution_count": null,
   "metadata": {},
   "outputs": [],
   "source": [
    "# set qubit-resonator coupling strength to 0\n",
    "g = 0\n",
    "H_i = g * (coupling1 + coupling2)\n",
    "\n",
    "N = 25 #qubit Hilbert space\n",
    "M = 10 #resonator Hilbert space\n",
    "\n",
    "phi_ext = np.linspace(0.5*2*np.pi, 0.641*2*np.pi, 142)\n",
    "\n",
    "qubitEdiff_10 = [] # GHz * 2pi\n",
    "delta10 = [] # MHz * 2pi\n",
    "\n",
    "for phi in phi_ext:\n",
    "    Jterm = -Ej * ((1/2) * ((1j * (phi_op - phi)).expm()) + (1/2) * ((-1j * (phi_op_HC - phi)).expm()))\n",
    "    H_flux = Jterm + Cterm + Lterm\n",
    "    H_sys = tensor(H_flux, qeye(M)) + tensor(qeye(N), H_lc) + H_i\n",
    "    states, energies, frequencies, chi_value, truncated_H = truncate_disshift(H_sys, resonator_num)\n",
    "    qubitEdiff_10.append(frequencies[0].real*2*np.pi)\n",
    "    detuning10 = frequencies[0].real - w\n",
    "    delta10.append(detuning10*1000*2*np.pi)"
   ]
  },
  {
   "cell_type": "code",
   "execution_count": null,
   "metadata": {},
   "outputs": [],
   "source": [
    "t = []\n",
    "\n",
    "flux_shift = phi_ext[-1] - phi_ext[0]\n",
    "\n",
    "for phi in phi_ext:\n",
    "    ss = 0.5*2*np.pi\n",
    "    time = (ramp_duration/(flux_shift))*(phi-ss)\n",
    "    t.append(time)\n",
    "    \n",
    "delta10_func_t = interpolate.interp1d(t, np.array(delta10), fill_value=\"extrapolate\")"
   ]
  },
  {
   "cell_type": "markdown",
   "metadata": {},
   "source": [
    "## Get effective couplings ($g_{10}$)"
   ]
  },
  {
   "cell_type": "code",
   "execution_count": null,
   "metadata": {},
   "outputs": [],
   "source": [
    "phi_ext_norm = np.array(phi_ext)/(2*np.pi)\n",
    "\n",
    "g_total = 0.05 #GHz\n",
    "matrix_elem10 = []\n",
    "g_eff10 = [] #MHz * 2pi\n",
    "\n",
    "for phi in phi_ext_norm:\n",
    "    qubit = scq.Fluxonium(EJ = Ej, EC = Ec, EL = El, flux = phi, cutoff = 50)\n",
    "    n10 = np.abs(qubit.matrixelement_table('n_operator')[1, 0])\n",
    "    matrix_elem10.append(n10)\n",
    "    g_eff10.append(g_total*1000*n10*2*np.pi)\n",
    "\n",
    "g_eff10_func_t = interpolate.interp1d(t, np.array(g_eff10), fill_value=\"extrapolate\")"
   ]
  },
  {
   "cell_type": "markdown",
   "metadata": {},
   "source": [
    "## Calculate Purcell rate and error induced for static readout at sweet-spot"
   ]
  },
  {
   "cell_type": "code",
   "execution_count": null,
   "metadata": {},
   "outputs": [],
   "source": [
    "# all in units of MHz*2pi\n",
    "detuning_ss = delta10[0]\n",
    "g_eff10_ss = g_eff10[0]\n",
    "\n",
    "# rate of Purcell decay at sweet-spot in 1/us\n",
    "purcell_rate_ss = (g_eff10_ss**2 * kappa) / (detuning_ss)**2\n",
    "\n",
    "# error contribution from Purcell decay\n",
    "purcell_error_ss = []\n",
    "\n",
    "for t in tau:\n",
    "    error = (1/4)*(1-np.exp(-purcell_rate_ss*t))\n",
    "    purcell_error_ss.append(error)\n",
    "\n",
    "# sum SNR limited error and Purcell induced error\n",
    "sep_purcell_error_ss = []\n",
    "\n",
    "for i, value in enumerate(error_hfqp):\n",
    "    sep_purcell_error_ss.append(error_hfqp[i]+purcell_error_ss[i])"
   ]
  },
  {
   "cell_type": "markdown",
   "metadata": {},
   "source": [
    "## Calculate Purcell rate and error induced for flux-pulse-assisted readout"
   ]
  },
  {
   "cell_type": "code",
   "execution_count": null,
   "metadata": {},
   "outputs": [],
   "source": [
    "purcell_rate_fpa = [] #1/us\n",
    "purcell_error_fpa = []\n",
    "\n",
    "for i, time in enumerate(totalTime):\n",
    "    if time <= ramp_duration:\n",
    "        g10 = g_eff10_func_t(time) #MHz*2pi\n",
    "        delta10 = delta10_func_t(time) #MHz*2pi\n",
    "        purcell_rate = (g10**2 * kappa)/(delta10**2) #1/us\n",
    "        purcell_rate_fpa.append(purcell_rate)\n",
    "        time_axis = np.linspace(0, time, i+1)\n",
    "        error = (1/4)*(1-np.exp(-np.trapz(purcell_rate_fpa, time_axis)))\n",
    "        purcell_error_fpa.append(error)\n",
    "        \n",
    "    elif time > ramp_duration:\n",
    "        g10 = g_eff10_func_t(ramp_duration) #MHz*2pi\n",
    "        delta10 = delta10_func_t(ramp_duration) #MHz*2pi\n",
    "        purcell_rate = (g10**2 * kappa)/(delta10**2) #1/us\n",
    "        purcell_rate_fpa.append(purcell_rate)\n",
    "        time_axis = np.linspace(0, time, i+1)\n",
    "        error = (1/4)*(1-np.exp(-np.trapz(purcell_rate_fpa, time_axis)))\n",
    "        purcell_error_fpa.append(error)\n",
    "        \n",
    "total_error_fpa_maxeff = []\n",
    "total_error_fpa_loweff = []\n",
    "\n",
    "for i, value in enumerate(error_pulse):\n",
    "    total_error_fpa_maxeff.append(error_pulse[i]+purcell_error_fpa[i])\n",
    "    total_error_fpa_loweff.append(error_loweff[i]+purcell_error_fpa[i])"
   ]
  },
  {
   "cell_type": "markdown",
   "metadata": {},
   "source": [
    "## Plotting with Purcell error included"
   ]
  },
  {
   "cell_type": "code",
   "execution_count": null,
   "metadata": {},
   "outputs": [],
   "source": [
    "fig, (ax1, ax2) = plt.subplots(ncols=1, nrows=2, dpi=250, sharex=True)\n",
    "\n",
    "fig.subplots_adjust(bottom = 0.16, top=0.99, left=0.16, right=0.9, wspace=0.4, hspace=0.25)\n",
    "fig.set_size_inches(3.40457, 3.0)\n",
    "font = {'size' : 8}\n",
    "mpl.rc('font', **font)\n",
    "\n",
    "ax1.plot(tau * 1000, rawSNR_hfqp, label = \"$\\Phi_{ext}/\\Phi_{0}$=0.5\", color=reds(0.6), linewidth=1.5)\n",
    "ax1.plot(totalTime * 1000, snr_loweff, label =  \"$\\chi$($\\phi_{ext}$(t)), $\\eta = 0.25$\", color=blues(0.35), linewidth=1.5)\n",
    "ax1.plot(totalTime * 1000, totalRawSNR, label = \"$\\chi$($\\phi_{ext}$(t))\", color=blues(0.75), linewidth=1.5)\n",
    "ax1.set_ylabel(r\"SNR\", fontsize=8)\n",
    "ax1.set_xlim(0, 200)\n",
    "ax1.set_ylim(0, 15)\n",
    "ax1.set_yticks([0.0, 5.0, 10.0, 15.0])\n",
    "ax1.tick_params(axis='y', pad=4, labelsize=8)\n",
    "ax1.tick_params(axis='x', which='both', bottom=False, top=False, labelbottom=False)\n",
    "ax1.legend(loc='lower left', bbox_to_anchor=(-0.02, 0.42), handletextpad=0.2, frameon=False, fontsize = 7)\n",
    "ax1.annotate(\"(a)\", xy=(0.01, 1.05), xycoords=\"axes fraction\")\n",
    "handles, labels = ax1.get_legend_handles_labels()\n",
    "order = [2, 1, 0]\n",
    "ax1.legend([handles[idx] for idx in order],[labels[idx] for idx in order], loc='lower left', bbox_to_anchor=(-0.02, 0.48), handletextpad=0.4, handlelength = 1.28, frameon=False, fontsize = 7)\n",
    "\n",
    "ax2.plot(tau * 1000, sep_purcell_error_ss, label = r\"$E_{total}$\", color=reds(0.6), linewidth=1.5)\n",
    "ax2.plot(totalTime * 1000, purcell_error_fpa, label = r\"$E_{Purcell}$\", color=blues(0.3), linestyle='dotted')\n",
    "ax2.plot(totalTime * 1000, error_loweff, label = r\"$E_{sep}$, $\\eta = 0.25$\", color=blues(0.35), linewidth=1.5)\n",
    "ax2.plot(totalTime * 1000, np.array(total_error_fpa_loweff), label = r\"$E_{total}$, $\\eta = 0.25$\", color=blues(0.5), linestyle='dashdot', dashes=(3, 1, 1, 1))\n",
    "ax2.plot(totalTime * 1000, error_pulse, label = r\"$E_{sep}$\", color=blues(0.75), linewidth=1.5)\n",
    "ax2.plot(totalTime * 1000, np.array(total_error_fpa_maxeff), label = r\"$E_{total}$\", color=blues(0.9), linestyle='dashdot', dashes=(3, 1, 1, 1))\n",
    "ax2.set_ylabel(r\"Readout Error\", fontsize=8)\n",
    "ax2.set_xlabel(r\"Integration Time, $\\tau$ (ns)\", fontsize=8)\n",
    "ax2.tick_params(axis='both', which='major', labelsize=8)\n",
    "ax2.set_xlim(0, 200) #nanoseconds\n",
    "ax2.set_yscale(\"log\")\n",
    "ax2.set_ylim(1e-8, 1)\n",
    "ax2.tick_params(axis='y', pad=1.5)\n",
    "ax2.set_yticks([1e-8, 1e-6, 1e-4, 1e-2, 1e0])\n",
    "ax2.annotate(\"(b)\", xy=(0.01, 1.05), xycoords=\"axes fraction\")\n",
    "handles, labels = ax2.get_legend_handles_labels()\n",
    "order2a = [0, 1, 4, 5]\n",
    "xa = -0.02\n",
    "ya = 0.59\n",
    "legend2a = ax2.legend([handles[idx] for idx in order2a],[labels[idx] for idx in order2a], loc='lower left', bbox_to_anchor=(xa, ya), handletextpad=0.4, frameon=False, handlelength = 1.28, fontsize = 7, labelspacing=0.1, ncols=2, columnspacing=0.4)\n",
    "order2b = [2, 3]\n",
    "xb = -0.02\n",
    "yb = 0.35\n",
    "legend2b = ax2.legend([handles[idx] for idx in order2b],[labels[idx] for idx in order2b], loc='lower left', bbox_to_anchor=(xb, yb), handletextpad=0.4, frameon=False, handlelength = 1.28, fontsize = 7, labelspacing=0.1)\n",
    "fig.gca().add_artist(legend2a)"
   ]
  },
  {
   "cell_type": "markdown",
   "metadata": {},
   "source": [
    "# Non-QNDness during flux ramping (Appendix B)"
   ]
  },
  {
   "cell_type": "markdown",
   "metadata": {},
   "source": [
    "## Get bare detuning, $\\Delta_{31}$, as a function of time"
   ]
  },
  {
   "cell_type": "code",
   "execution_count": null,
   "metadata": {},
   "outputs": [],
   "source": [
    "# set qubit-resonator coupling strength to 0\n",
    "g = 0\n",
    "H_i = g * (coupling1 + coupling2)\n",
    "\n",
    "N = 25 #qubit Hilbert space\n",
    "M = 10 #resonator Hilbert space\n",
    "\n",
    "phi_ext = np.linspace(0.5*2*np.pi, 0.641*2*np.pi, 142)\n",
    "\n",
    "qubitEdiff_31 = [] # GHz\n",
    "delta31 = [] # MHz\n",
    "\n",
    "for phi in phi_ext:\n",
    "    Jterm = -Ej * ((1/2) * ((1j * (phi_op - phi)).expm()) + (1/2) * ((-1j * (phi_op_HC - phi)).expm()))\n",
    "    H_flux = Jterm + Cterm + Lterm\n",
    "    H_sys = tensor(H_flux, qeye(M)) + tensor(qeye(N), H_lc) + H_i\n",
    "    states, energies, frequencies, chi_value = truncate_detuning(H_sys, resonator_num)\n",
    "    qubitEdiff_31.append(frequencies[4].real)\n",
    "    detuning31 = frequencies[4].real - w\n",
    "    delta31.append(detuning31*1000)"
   ]
  },
  {
   "cell_type": "code",
   "execution_count": null,
   "metadata": {},
   "outputs": [],
   "source": [
    "t = []\n",
    "\n",
    "for phi in phi_ext:\n",
    "    ss = 0.5*2*np.pi\n",
    "    flux_shift = 0.141*2*np.pi\n",
    "    time = (ramp_duration/(flux_shift))*(phi-ss)\n",
    "    t.append(time)"
   ]
  },
  {
   "cell_type": "code",
   "execution_count": null,
   "metadata": {},
   "outputs": [],
   "source": [
    "delta31_angfreq = 2*np.pi*np.array(delta31)\n",
    "delta31_func_t = interpolate.interp1d(t, delta31_angfreq, fill_value=\"extrapolate\")"
   ]
  },
  {
   "cell_type": "markdown",
   "metadata": {},
   "source": [
    "## Get effective coupling ($g_{31}$) vs time"
   ]
  },
  {
   "cell_type": "code",
   "execution_count": null,
   "metadata": {},
   "outputs": [],
   "source": [
    "phi_ext_norm = np.array(phi_ext)/(2*np.pi)\n",
    "\n",
    "g_total = 0.05 #GHz\n",
    "matrix_elem31 = []\n",
    "g_eff31 = [] #MHz\n",
    "\n",
    "for phi in phi_ext_norm:\n",
    "    qubit = scq.Fluxonium(EJ = Ej, EC = Ec, EL = El, flux = phi, cutoff = 50)\n",
    "    n31 = np.abs(qubit.matrixelement_table('n_operator')[3, 1])\n",
    "    matrix_elem31.append(n31)\n",
    "    g_eff31.append(g_total*n31*1000)"
   ]
  },
  {
   "cell_type": "code",
   "execution_count": null,
   "metadata": {},
   "outputs": [],
   "source": [
    "g_eff31_angfreq = 2*np.pi*np.array(g_eff31)\n",
    "g31_func_t = interpolate.interp1d(t, g_eff31_angfreq, fill_value=\"extrapolate\")"
   ]
  },
  {
   "cell_type": "markdown",
   "metadata": {},
   "source": [
    "## Get sqrt of intracavity photon population"
   ]
  },
  {
   "cell_type": "code",
   "execution_count": null,
   "metadata": {},
   "outputs": [],
   "source": [
    "# NOTE: THIS CELL RELIES ON HAVING RUN THROUGH SECTION 2.2\n",
    "\n",
    "ep = math.sqrt(n_readout*(chi_readout**2 + (kappa)**2 / 4)) #epsilon --> drive amplitude\n",
    "\n",
    "#solve differential equation to get alpha for two eigenstates (|0>, |1>)\n",
    "def alphadot_0(alpha, time):\n",
    "    dalpha0dt = -1j * 2 * np.pi * chi_func_t(time) * alpha - (1/2) * kappa * alpha + ep*(time/ramp_duration)**2\n",
    "    return dalpha0dt\n",
    "\n",
    "def alphadot_1(alpha, time):\n",
    "    dalpha1dt = 1j * 2 * np.pi * chi_func_t(time) * alpha - (1/2) * kappa * alpha + ep*(time/ramp_duration)**2\n",
    "    return dalpha1dt\n",
    "\n",
    "alpha_init = [0+0j]\n",
    "t_ramp = np.linspace(0, ramp_duration, 101) #times during flux pulse ramp\n",
    "\n",
    "sol_alpha0 = solve_ivp(lambda time, alpha: alphadot_0(alpha, time), [t_ramp[0], t_ramp[-1]], alpha_init, t_eval=t_ramp)\n",
    "sol_alpha1 = solve_ivp(lambda time, alpha: alphadot_1(alpha, time), [t_ramp[0], t_ramp[-1]], alpha_init, t_eval=t_ramp)\n",
    "\n",
    "alpha0solution = sol_alpha0.y[0]\n",
    "alpha1solution = sol_alpha1.y[0]"
   ]
  },
  {
   "cell_type": "code",
   "execution_count": null,
   "metadata": {},
   "outputs": [],
   "source": [
    "abs_alpha1solution = np.abs(alpha1solution)\n",
    "alpha1_func_t = interpolate.interp1d(t_ramp, abs_alpha1solution, fill_value=\"extrapolate\")"
   ]
  },
  {
   "cell_type": "markdown",
   "metadata": {},
   "source": [
    "## Time-evolution"
   ]
  },
  {
   "cell_type": "code",
   "execution_count": null,
   "metadata": {},
   "outputs": [],
   "source": [
    "# basis(2,1) represents q=3, r=0\n",
    "init_state = basis(2, 0) # represents q=1, r=1\n",
    "\n",
    "def delta31half(t, args):\n",
    "    _delta31 = delta31_func_t(t) # MHz*2pi(us)\n",
    "    return _delta31/2\n",
    "\n",
    "def off_diag(t, args):\n",
    "    geff = g31_func_t(t) # MHz*2pi(us)\n",
    "    absalpha1 = alpha1_func_t(t)\n",
    "    return geff*absalpha1"
   ]
  },
  {
   "cell_type": "code",
   "execution_count": null,
   "metadata": {},
   "outputs": [],
   "source": [
    "H0 = qzero(2)\n",
    "H1 = sigmaz()\n",
    "H2 = sigmax()\n",
    "\n",
    "H31_swap = [H0, [H1, delta31half], [H2, off_diag]]\n",
    "output = mesolve(H=H31_swap, rho0=init_state, tlist=np.array(t))\n",
    "\n",
    "q1r1pop = []\n",
    "q3r0pop = []\n",
    "\n",
    "for i in range(len(output.states)):\n",
    "    state = output.states[i]\n",
    "    sqrt_q1r1pop = state.extract_states(0)[0][0]\n",
    "    sqrt_q3r0pop = state.extract_states(1)[0][0]\n",
    "    q1r1pop.append(np.abs(sqrt_q1r1pop)**2)\n",
    "    q3r0pop.append(np.abs(sqrt_q3r0pop)**2)"
   ]
  },
  {
   "cell_type": "markdown",
   "metadata": {},
   "source": [
    "## Plotting"
   ]
  },
  {
   "cell_type": "code",
   "execution_count": null,
   "metadata": {},
   "outputs": [],
   "source": [
    "fig, ax = plt.subplots(ncols=1, nrows=1, dpi=250)\n",
    "\n",
    "fig.subplots_adjust(bottom = 0.16, top=0.99, left=0.16, right=0.8, wspace=0.8, hspace=0.6)\n",
    "# fig.set_size_inches(2.5,3.40457)\n",
    "fig.set_size_inches(3.40457, 2.0)\n",
    "\n",
    "font = {'size' : 8}\n",
    "plt.rc('font', **font)\n",
    "\n",
    "ax.plot(np.array(t)*1000, q3r0pop, color=blues(0.7))\n",
    "ax.set_xlim(0, 50)\n",
    "ax.set_ylim(0.00001, 1e-1)\n",
    "ax.set_xlabel('Time (ns)')\n",
    "ax.set_ylabel('Non-QNDness')\n",
    "ax.set_yscale('log')"
   ]
  },
  {
   "cell_type": "markdown",
   "metadata": {},
   "source": [
    "# Estimate T$_{1}$ (Appendix C)"
   ]
  },
  {
   "cell_type": "markdown",
   "metadata": {},
   "source": [
    "## Initialize parameters and functions"
   ]
  },
  {
   "cell_type": "code",
   "execution_count": null,
   "metadata": {},
   "outputs": [],
   "source": [
    "N = 25 #qubit Hilbert space\n",
    "M = 10 #resonator Hilbert space\n",
    "\n",
    "#creation/annihilation operators in qubit subspace\n",
    "c = destroy(N)\n",
    "cdag = create(N)\n",
    "\n",
    "#creation/annihilation operators in resonator subspace\n",
    "a = destroy(M)\n",
    "adag = create(M)\n",
    "\n",
    "rnum = adag * a\n",
    "resonator_num = tensor(qeye(N), rnum)\n",
    "\n",
    "#qubit-resonator coupling strength (GHz)\n",
    "g = 0.05\n",
    "coupling1 = tensor(c, adag)\n",
    "coupling2 = tensor(cdag, a)\n",
    "H_i = g * (coupling1 + coupling2)\n",
    "\n",
    "phi_ext = np.linspace(0.5*2*np.pi, 0.641*2*np.pi, 142)\n",
    "\n",
    "qubitEdiff_10 = [] # GHz\n",
    "#loop over flux bias defined by phi_ext\n",
    "for phi in phi_ext:\n",
    "    Jterm = -Ej * ((1/2) * ((1j * (phi_op - phi)).expm()) + (1/2) * ((-1j * (phi_op_HC - phi)).expm()))\n",
    "    H_flux = Jterm + Cterm + Lterm\n",
    "    H_sys = tensor(H_flux, qeye(M)) + tensor(qeye(N), H_lc) + H_i\n",
    "    states, energies, frequencies, chi_value, truncated_H = truncate_disshift(H_sys, resonator_num)\n",
    "    qubitEdiff_10.append(frequencies[0].real)"
   ]
  },
  {
   "cell_type": "code",
   "execution_count": null,
   "metadata": {},
   "outputs": [],
   "source": [
    "phi_for_readout = np.linspace(0.5, 0.641, 142)\n",
    "phi_matrix_elem10 = []\n",
    "\n",
    "for phi in phi_for_readout:\n",
    "    qubit = scq.Fluxonium(EJ = Ej, EC = Ec, EL = El, flux = phi, cutoff = 50)\n",
    "    phi10 = np.abs(qubit.matrixelement_table('phi_operator')[1, 0])\n",
    "    phi_matrix_elem10.append(phi10)\n",
    "\n",
    "t = []\n",
    "for phi in phi_ext:\n",
    "    ss = 0.5*2*np.pi\n",
    "    flux_shift = 0.141*2*np.pi\n",
    "    time = (ramp_duration/(flux_shift))*(phi-ss)\n",
    "    t.append(time)\n",
    "    \n",
    "phi10_func_t = interpolate.interp1d(t, phi_matrix_elem10, fill_value=\"extrapolate\")\n",
    "freq10_func_t = interpolate.interp1d(t, qubitEdiff_10, fill_value=\"extrapolate\")"
   ]
  },
  {
   "cell_type": "code",
   "execution_count": null,
   "metadata": {},
   "outputs": [],
   "source": [
    "kb = constants.value('Boltzmann constant') # Joule/Kelvin\n",
    "h = constants.value('Planck constant') # Joule Hz^-1\n",
    "loss_tangent = 0.8e-6\n",
    "temp = 20e-3 # Kelvin\n",
    "freq_ss_Hz = qubitEdiff_10[0]*10**9\n",
    "freq_ro_Hz = qubitEdiff_10[-1]*10**9\n",
    "Ec_joule = Ec*10**9*h\n",
    "trig_arg_ss = (h*freq_ss_Hz)/(2*kb*temp)"
   ]
  },
  {
   "cell_type": "code",
   "execution_count": null,
   "metadata": {},
   "outputs": [],
   "source": [
    "def coth(x):\n",
    "    return math.cosh(x)/math.sinh(x)\n",
    "\n",
    "def dielectric_loss_rate(frequency, phi_elem, trig_arg):\n",
    "    rate = ((h*frequency**2)/(4*Ec_joule))*(phi_elem**2)*loss_tangent*coth(trig_arg)\n",
    "    return rate"
   ]
  },
  {
   "cell_type": "markdown",
   "metadata": {},
   "source": [
    "## T$_{1}$ at sweet-spot"
   ]
  },
  {
   "cell_type": "code",
   "execution_count": null,
   "metadata": {},
   "outputs": [],
   "source": [
    "dielectric_rate_ss_Hz = dielectric_loss_rate(freq_ss_Hz, phi_matrix_elem10[0], trig_arg_ss)\n",
    "dielectric_rate_ss = dielectric_rate_ss_Hz*10**(-6)*2*np.pi #1/us\n",
    "T1_ss = 1/(dielectric_rate_ss)"
   ]
  },
  {
   "cell_type": "markdown",
   "metadata": {},
   "source": [
    "## T$_{1}$ vs flux bias"
   ]
  },
  {
   "cell_type": "code",
   "execution_count": null,
   "metadata": {},
   "outputs": [],
   "source": [
    "T1_vs_flux = [] #us\n",
    "\n",
    "for i, time in enumerate(t):\n",
    "    freq10_Hz = freq10_func_t(time)*10**9\n",
    "    phi10 = phi10_func_t(time)\n",
    "    trig_arg = (h*freq10_Hz)/(2*kb*temp)\n",
    "    dielectric_rate = dielectric_loss_rate(freq10_Hz, phi10, trig_arg)*10**(-6)*2*np.pi\n",
    "    T1_vs_flux.append(1/dielectric_rate)"
   ]
  },
  {
   "cell_type": "code",
   "execution_count": null,
   "metadata": {},
   "outputs": [],
   "source": [
    "#1D plot of T1 vs external flux up to readout point\n",
    "fig, ax = plt.subplots(ncols=1, nrows=1, dpi=250)\n",
    "\n",
    "fig.subplots_adjust(bottom = 0.16, top=0.99, left=0.16, right=0.9, wspace=0.4, hspace=0.4)\n",
    "\n",
    "fig.set_size_inches(3.40457, 2.0)\n",
    "font = {'size' : 8}\n",
    "mpl.rc('font', **font)\n",
    "\n",
    "for axis in ['top','bottom','left','right']:\n",
    "    ax.spines[axis].set_linewidth(0.5)\n",
    "ax.tick_params(width=0.5, which='both')\n",
    "ax.tick_params(length=2.5, which='major')\n",
    "ax.tick_params(length=1.5, which='minor')\n",
    "\n",
    "ax.plot(phi_ext/(2*np.pi), np.array(T1_vs_flux), linewidth=1.25)\n",
    "\n",
    "ax.set_xlim(0.5, 0.641)\n",
    "# ax.set_ylim(150, 600)\n",
    "\n",
    "ax.set_xlabel(r\"External Flux, $\\Phi_{ext}/\\Phi_0$\")\n",
    "ax.set_ylabel(r\"T$_{1}$ ($\\mu$s)\")"
   ]
  },
  {
   "cell_type": "markdown",
   "metadata": {},
   "source": [
    "## Dielectric loss error with flux pulsing"
   ]
  },
  {
   "cell_type": "code",
   "execution_count": null,
   "metadata": {},
   "outputs": [],
   "source": [
    "time_diff = t[1]-t[0]\n",
    "time_ro_point = np.linspace(0.05+time_diff, 0.2, 422)\n",
    "time_all = np.concatenate((t, time_ro_point))"
   ]
  },
  {
   "cell_type": "code",
   "execution_count": null,
   "metadata": {},
   "outputs": [],
   "source": [
    "dielectric_rate_fpa = [] #1/us\n",
    "dielectric_error_fpa = []\n",
    "\n",
    "for i, time in enumerate(time_all):\n",
    "    if time <= ramp_duration:\n",
    "        freq10_Hz = freq10_func_t(time)*10**9\n",
    "        phi10 = phi10_func_t(time)\n",
    "        trig_arg = (h*freq10_Hz)/(2*kb*temp)\n",
    "        dielectric_rate = dielectric_loss_rate(freq10_Hz, phi10, trig_arg)*10**(-6)*2*np.pi\n",
    "        dielectric_rate_fpa.append(dielectric_rate)\n",
    "        time_axis = np.linspace(0, time, i+1)\n",
    "        error = (1/4)*(1-np.exp(-np.trapz(dielectric_rate_fpa, time_axis)))\n",
    "        dielectric_error_fpa.append(error)\n",
    "        \n",
    "    elif time > ramp_duration:\n",
    "        freq10_Hz = freq10_func_t(ramp_duration)*10**9\n",
    "        phi10 = phi10_func_t(ramp_duration)\n",
    "        trig_arg = (h*freq10_Hz)/(2*kb*temp)\n",
    "        dielectric_rate = dielectric_loss_rate(freq10_Hz, phi10, trig_arg)*10**(-6)*2*np.pi\n",
    "        dielectric_rate_fpa.append(dielectric_rate)\n",
    "        time_axis = np.linspace(0, time, i+1)\n",
    "        error = (1/4)*(1-np.exp(-np.trapz(dielectric_rate_fpa, time_axis)))\n",
    "        dielectric_error_fpa.append(error)"
   ]
  },
  {
   "cell_type": "markdown",
   "metadata": {},
   "source": [
    "# Thermal excitations"
   ]
  },
  {
   "cell_type": "markdown",
   "metadata": {},
   "source": [
    "## Sweet-spot"
   ]
  },
  {
   "cell_type": "code",
   "execution_count": null,
   "metadata": {},
   "outputs": [],
   "source": [
    "therm_ex_rate_ss = dielectric_rate_ss * np.exp(-(h*freq_ss_Hz)/(kb*temp)) #1/us\n",
    "\n",
    "#for t=200 ns\n",
    "therm_error_ss = (1/4)*(1-np.exp(-therm_ex_rate_ss*0.2))"
   ]
  },
  {
   "cell_type": "markdown",
   "metadata": {},
   "source": [
    "## Flux-pulse-assisted readout"
   ]
  },
  {
   "cell_type": "code",
   "execution_count": null,
   "metadata": {},
   "outputs": [],
   "source": [
    "therm_ex_rate_flux = []\n",
    "therm_ex_error_fpa = []\n",
    "\n",
    "for i, time in enumerate(time_all):\n",
    "    if time <= ramp_duration:\n",
    "        freq10_Hz = freq10_func_t(time)*10**9\n",
    "        phi10 = phi10_func_t(time)\n",
    "        trig_arg = (h*freq10_Hz)/(2*kb*temp)\n",
    "        dielectric_rate = dielectric_loss_rate(freq10_Hz, phi10, trig_arg)*10**(-6)*2*np.pi\n",
    "        excitation_rate = dielectric_rate * np.exp(-(h*freq10_Hz)/(kb*temp))\n",
    "        therm_ex_rate_flux.append(excitation_rate)\n",
    "        time_axis = np.linspace(0, time, i+1)\n",
    "        error = (1/4)*(1-np.exp(-np.trapz(therm_ex_rate_flux, time_axis)))\n",
    "        therm_ex_error_fpa.append(error)\n",
    "        \n",
    "    elif time > ramp_duration:\n",
    "        freq10_Hz = freq10_func_t(ramp_duration)*10**9\n",
    "        phi10 = phi10_func_t(ramp_duration)\n",
    "        trig_arg = (h*freq10_Hz)/(2*kb*temp)\n",
    "        dielectric_rate = dielectric_loss_rate(freq10_Hz, phi10, trig_arg)*10**(-6)*2*np.pi\n",
    "        excitation_rate = dielectric_rate * np.exp(-(h*freq10_Hz)/(kb*temp))\n",
    "        therm_ex_rate_flux.append(excitation_rate)\n",
    "        time_axis = np.linspace(0, time, i+1)\n",
    "        error = (1/4)*(1-np.exp(-np.trapz(therm_ex_rate_flux, time_axis)))\n",
    "        therm_ex_error_fpa.append(error)"
   ]
  }
 ],
 "metadata": {
  "kernelspec": {
   "display_name": "Python 3 (ipykernel)",
   "language": "python",
   "name": "python3"
  },
  "language_info": {
   "codemirror_mode": {
    "name": "ipython",
    "version": 3
   },
   "file_extension": ".py",
   "mimetype": "text/x-python",
   "name": "python",
   "nbconvert_exporter": "python",
   "pygments_lexer": "ipython3",
   "version": "3.8.8"
  },
  "toc": {
   "base_numbering": 1,
   "nav_menu": {},
   "number_sections": true,
   "sideBar": true,
   "skip_h1_title": false,
   "title_cell": "Table of Contents",
   "title_sidebar": "Contents",
   "toc_cell": false,
   "toc_position": {
    "height": "calc(100% - 180px)",
    "left": "10px",
    "top": "150px",
    "width": "384px"
   },
   "toc_section_display": true,
   "toc_window_display": true
  }
 },
 "nbformat": 4,
 "nbformat_minor": 4
}

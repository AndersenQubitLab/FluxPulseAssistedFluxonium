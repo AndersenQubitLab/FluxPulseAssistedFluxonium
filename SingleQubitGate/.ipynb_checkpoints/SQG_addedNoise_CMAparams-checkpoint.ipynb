{
 "cells": [
  {
   "cell_type": "markdown",
   "id": "95ea3a73",
   "metadata": {},
   "source": [
    "# Imports"
   ]
  },
  {
   "cell_type": "code",
   "execution_count": 3,
   "id": "76f02dce",
   "metadata": {},
   "outputs": [],
   "source": [
    "%matplotlib inline\n",
    "import SQGfunctions as fn\n",
    "from SQGfunctions import *"
   ]
  },
  {
   "cell_type": "markdown",
   "id": "27b9226c",
   "metadata": {},
   "source": [
    "# Import data"
   ]
  },
  {
   "cell_type": "code",
   "execution_count": 4,
   "id": "ae42f7a1",
   "metadata": {},
   "outputs": [],
   "source": [
    "df = pd.read_csv(r'H:/taryn-phd/sqgData/DRAG_0shift_CMA.csv')\n",
    "fid = df['FidelityCMA'].to_numpy()\n",
    "error = df['ErrorCMA'].to_numpy()\n",
    "lambdas = df['LambdasCMA'].to_numpy()\n",
    "Eds = df['EdsCMA'].to_numpy()\n",
    "times = np.linspace(10,50,41)"
   ]
  },
  {
   "cell_type": "markdown",
   "id": "42dc5adb",
   "metadata": {},
   "source": [
    "# Single gate at sweet spot with added quasistatic flux noise"
   ]
  },
  {
   "cell_type": "code",
   "execution_count": 5,
   "id": "26137468",
   "metadata": {},
   "outputs": [],
   "source": [
    "#collapse operators\n",
    "c_op1 = []\n",
    "c_op2 = []\n",
    "\n",
    "H_sys,evals,evecs = fluxonium_system(sweet_spot,Ej,Ec,El,n_op,phi_op,H_lc,H_i)\n",
    "Es = np.real(qubit_energies(H_sys,evals,evecs))\n",
    "omega_drive = (Es[2]-Es[0])\n",
    "drive_freq = omega_drive #drive frequency at sweet spot"
   ]
  },
  {
   "cell_type": "code",
   "execution_count": 6,
   "id": "c50bfb43",
   "metadata": {},
   "outputs": [],
   "source": [
    "def gate_pulse_noise(lamb,Ed,gatetime,psi,sweet_spot=np.pi):\n",
    "    #calculations at sweet spot - assumed parameters\n",
    "    time = np.linspace(0, gatetime, 101)\n",
    "    H_sys,evals,evecs = fluxonium_system(np.pi,Ej,Ec,El,n_op,phi_op,H_lc,H_i)\n",
    "    Es = np.real(qubit_energies(H_sys,evals,evecs))\n",
    "    omega_drive = (Es[2]-Es[0])\n",
    "    drive_freq = omega_drive\n",
    "    alpha = (Es[4] - Es[2]) - (Es[2] - Es[0])\n",
    "    drive_me, trunc_drive_op = matrix_element(drive_op,H_sys,evals,evecs)\n",
    "    tgate = gatetime\n",
    "    \n",
    "    #calculation of system parameters at \"sweet-spot\" where noise can be added\n",
    "    H_sys,evals,evecs = fluxonium_system(sweet_spot,Ej,Ec,El,n_op,phi_op,H_lc,H_i)\n",
    "    Es = np.real(qubit_energies(H_sys,evals,evecs))\n",
    "    \n",
    "    H_total = [Qobj(np.diag(Es)), [Ed*trunc_drive_op, H_drive_TD_no_fp]]\n",
    "    states = time_evolve_no_fp(H_total, initialState, time, args={'gate_time': tgate, 'lamb': lamb,\n",
    "                                                    'omega_drive': drive_freq, \n",
    "                                                    'alpha': alpha})[1:]\n",
    "    fidelity = np.abs((expectRho.dag()*states[-1]).full()[0,0])**2\n",
    "    print('')\n",
    "    print('lambda',lamb)\n",
    "    print('drive',Ed)\n",
    "    print('fidelity',fidelity)\n",
    "    return fidelity, states"
   ]
  },
  {
   "cell_type": "code",
   "execution_count": 7,
   "id": "cb89023f",
   "metadata": {},
   "outputs": [
    {
     "data": {
      "application/vnd.jupyter.widget-view+json": {
       "model_id": "585f670479094889b8a32d3ea9ba3110",
       "version_major": 2,
       "version_minor": 0
      },
      "text/plain": [
       "  0%|          | 0/3 [00:00<?, ?it/s]"
      ]
     },
     "metadata": {},
     "output_type": "display_data"
    },
    {
     "data": {
      "application/vnd.jupyter.widget-view+json": {
       "model_id": "d0aad8f246864b038e5d3a92467ccafb",
       "version_major": 2,
       "version_minor": 0
      },
      "text/plain": [
       "  0%|          | 0/50 [00:00<?, ?it/s]"
      ]
     },
     "metadata": {},
     "output_type": "display_data"
    },
    {
     "name": "stdout",
     "output_type": "stream",
     "text": [
      "\n",
      "lambda 2.2690458351124634\n",
      "drive 1.5579971372646702\n",
      "fidelity 0.999999989984784\n",
      "\n",
      "lambda 2.26683667174577\n",
      "drive 1.4161457055236648\n",
      "fidelity 0.999999990253527\n",
      "\n",
      "lambda 2.26445732264917\n",
      "drive 1.297993359407949\n",
      "fidelity 0.999999989828277\n",
      "\n",
      "lambda 2.262178343221531\n",
      "drive 1.198056975532431\n",
      "fidelity 0.9999999888157158\n",
      "\n",
      "lambda 2.260365878052671\n",
      "drive 1.1124224538969951\n",
      "fidelity 0.9999999873707088\n",
      "\n",
      "lambda 2.2589662739035528\n",
      "drive 1.0382198968451408\n",
      "fidelity 0.999999985619529\n",
      "\n",
      "lambda 2.258211766173294\n",
      "drive 0.97330160115701\n",
      "fidelity 0.999999983647471\n",
      "\n",
      "lambda 2.257571276102649\n",
      "drive 0.9160231221836468\n",
      "fidelity 0.9999999815769242\n",
      "\n",
      "lambda 2.257149440626025\n",
      "drive 0.8651109496196584\n",
      "fidelity 0.9999999789243724\n",
      "\n",
      "lambda 2.256703986844771\n",
      "drive 0.8195602444335418\n",
      "fidelity 0.9999999769087572\n",
      "\n",
      "lambda 2.256125842626859\n",
      "drive 0.778565631474329\n",
      "fidelity 0.9999999741462275\n",
      "\n",
      "lambda 2.255374704271492\n",
      "drive 0.7414779738965002\n",
      "fidelity 0.9999999718160268\n",
      "\n",
      "lambda 2.254293652354445\n",
      "drive 0.7077637297256358\n",
      "fidelity 0.9999999690496666\n",
      "\n",
      "lambda 2.253184402430136\n",
      "drive 0.6769833532007613\n",
      "fidelity 0.9999999661633557\n",
      "\n",
      "lambda 2.251923282101772\n",
      "drive 0.6487704597971636\n",
      "fidelity 0.9999999636651035\n",
      "\n",
      "lambda 2.250952098628286\n",
      "drive 0.6228157694538591\n",
      "fidelity 0.9999999600755967\n",
      "\n",
      "lambda 2.249791932769935\n",
      "drive 0.5988581666039081\n",
      "fidelity 0.9999999570640756\n",
      "\n",
      "lambda 2.2491098461307977\n",
      "drive 0.5766762986836832\n",
      "fidelity 0.9999999529875222\n"
     ]
    },
    {
     "ename": "KeyboardInterrupt",
     "evalue": "",
     "output_type": "error",
     "traceback": [
      "\u001b[1;31m---------------------------------------------------------------------------\u001b[0m",
      "\u001b[1;31mKeyboardInterrupt\u001b[0m                         Traceback (most recent call last)",
      "Cell \u001b[1;32mIn[7], line 14\u001b[0m\n\u001b[0;32m     11\u001b[0m sweet_spot \u001b[38;5;241m=\u001b[39m np\u001b[38;5;241m.\u001b[39mpi \u001b[38;5;241m+\u001b[39m epsilon\n\u001b[0;32m     13\u001b[0m \u001b[38;5;28;01mfor\u001b[39;00m n, i \u001b[38;5;129;01min\u001b[39;00m \u001b[38;5;28menumerate\u001b[39m(\u001b[38;5;28mrange\u001b[39m(\u001b[38;5;28mlen\u001b[39m(times))):\n\u001b[1;32m---> 14\u001b[0m     fids, states \u001b[38;5;241m=\u001b[39m \u001b[43mgate_pulse_noise\u001b[49m\u001b[43m(\u001b[49m\u001b[43mlambdas\u001b[49m\u001b[43m[\u001b[49m\u001b[43mn\u001b[49m\u001b[43m]\u001b[49m\u001b[43m,\u001b[49m\u001b[43mEds\u001b[49m\u001b[43m[\u001b[49m\u001b[43mn\u001b[49m\u001b[43m]\u001b[49m\u001b[43m,\u001b[49m\u001b[43mtimes\u001b[49m\u001b[43m[\u001b[49m\u001b[43mn\u001b[49m\u001b[43m]\u001b[49m\u001b[43m,\u001b[49m\u001b[43mpsi\u001b[49m\u001b[38;5;241;43m=\u001b[39;49m\u001b[43minitRho\u001b[49m\u001b[43m,\u001b[49m\u001b[43msweet_spot\u001b[49m\u001b[38;5;241;43m=\u001b[39;49m\u001b[43msweet_spot\u001b[49m\u001b[43m)\u001b[49m\n\u001b[0;32m     15\u001b[0m     fidelities[p,m,n] \u001b[38;5;241m=\u001b[39m fids\u001b[38;5;241m.\u001b[39mreal\n\u001b[0;32m     16\u001b[0m     errors[p,m,n] \u001b[38;5;241m=\u001b[39m \u001b[38;5;241m1\u001b[39m \u001b[38;5;241m-\u001b[39m fids\u001b[38;5;241m.\u001b[39mreal\n",
      "Cell \u001b[1;32mIn[6], line 15\u001b[0m, in \u001b[0;36mgate_pulse_noise\u001b[1;34m(lamb, Ed, gatetime, psi, sweet_spot)\u001b[0m\n\u001b[0;32m     12\u001b[0m Es \u001b[38;5;241m=\u001b[39m np\u001b[38;5;241m.\u001b[39mreal(qubit_energies(H_sys,evals,evecs))\n\u001b[0;32m     14\u001b[0m H_total \u001b[38;5;241m=\u001b[39m [Qobj(np\u001b[38;5;241m.\u001b[39mdiag(Es)), [Ed\u001b[38;5;241m*\u001b[39mtrunc_drive_op, H_drive_TD_no_fp]]\n\u001b[1;32m---> 15\u001b[0m states \u001b[38;5;241m=\u001b[39m \u001b[43mtime_evolve_no_fp\u001b[49m\u001b[43m(\u001b[49m\u001b[43mH_total\u001b[49m\u001b[43m,\u001b[49m\u001b[43m \u001b[49m\u001b[43minitialState\u001b[49m\u001b[43m,\u001b[49m\u001b[43m \u001b[49m\u001b[43mtime\u001b[49m\u001b[43m,\u001b[49m\u001b[43m \u001b[49m\u001b[43margs\u001b[49m\u001b[38;5;241;43m=\u001b[39;49m\u001b[43m{\u001b[49m\u001b[38;5;124;43m'\u001b[39;49m\u001b[38;5;124;43mgate_time\u001b[39;49m\u001b[38;5;124;43m'\u001b[39;49m\u001b[43m:\u001b[49m\u001b[43m \u001b[49m\u001b[43mtgate\u001b[49m\u001b[43m,\u001b[49m\u001b[43m \u001b[49m\u001b[38;5;124;43m'\u001b[39;49m\u001b[38;5;124;43mlamb\u001b[39;49m\u001b[38;5;124;43m'\u001b[39;49m\u001b[43m:\u001b[49m\u001b[43m \u001b[49m\u001b[43mlamb\u001b[49m\u001b[43m,\u001b[49m\n\u001b[0;32m     16\u001b[0m \u001b[43m                                                \u001b[49m\u001b[38;5;124;43m'\u001b[39;49m\u001b[38;5;124;43momega_drive\u001b[39;49m\u001b[38;5;124;43m'\u001b[39;49m\u001b[43m:\u001b[49m\u001b[43m \u001b[49m\u001b[43mdrive_freq\u001b[49m\u001b[43m,\u001b[49m\u001b[43m \u001b[49m\n\u001b[0;32m     17\u001b[0m \u001b[43m                                                \u001b[49m\u001b[38;5;124;43m'\u001b[39;49m\u001b[38;5;124;43malpha\u001b[39;49m\u001b[38;5;124;43m'\u001b[39;49m\u001b[43m:\u001b[49m\u001b[43m \u001b[49m\u001b[43malpha\u001b[49m\u001b[43m}\u001b[49m\u001b[43m)\u001b[49m[\u001b[38;5;241m1\u001b[39m:]\n\u001b[0;32m     18\u001b[0m fidelity \u001b[38;5;241m=\u001b[39m np\u001b[38;5;241m.\u001b[39mabs((expectRho\u001b[38;5;241m.\u001b[39mdag()\u001b[38;5;241m*\u001b[39mstates[\u001b[38;5;241m-\u001b[39m\u001b[38;5;241m1\u001b[39m])\u001b[38;5;241m.\u001b[39mfull()[\u001b[38;5;241m0\u001b[39m,\u001b[38;5;241m0\u001b[39m])\u001b[38;5;241m*\u001b[39m\u001b[38;5;241m*\u001b[39m\u001b[38;5;241m2\u001b[39m\n\u001b[0;32m     19\u001b[0m \u001b[38;5;28mprint\u001b[39m(\u001b[38;5;124m'\u001b[39m\u001b[38;5;124m'\u001b[39m)\n",
      "File \u001b[1;32mH:\\taryn-phd\\Cleaned\\SingleQubitGates\\SQGfunctions.py:146\u001b[0m, in \u001b[0;36mtime_evolve_no_fp\u001b[1;34m(H_total, psi, time, args)\u001b[0m\n\u001b[0;32m    144\u001b[0m evals \u001b[38;5;241m=\u001b[39m evals[evals_sort]\n\u001b[0;32m    145\u001b[0m evecs \u001b[38;5;241m=\u001b[39m evecs[evals_sort]\n\u001b[1;32m--> 146\u001b[0m \u001b[38;5;28;01mreturn\u001b[39;00m H_sys,evals,evecs\n",
      "File \u001b[1;32mC:\\Programs\\Anaconda3\\lib\\site-packages\\qutip\\mesolve.py:217\u001b[0m, in \u001b[0;36mmesolve\u001b[1;34m(H, rho0, tlist, c_ops, e_ops, args, options, progress_bar, _safe_mode)\u001b[0m\n\u001b[0;32m    205\u001b[0m use_mesolve \u001b[38;5;241m=\u001b[39m ((c_ops \u001b[38;5;129;01mand\u001b[39;00m \u001b[38;5;28mlen\u001b[39m(c_ops) \u001b[38;5;241m>\u001b[39m \u001b[38;5;241m0\u001b[39m)\n\u001b[0;32m    206\u001b[0m                \u001b[38;5;129;01mor\u001b[39;00m (\u001b[38;5;129;01mnot\u001b[39;00m isket(rho0))\n\u001b[0;32m    207\u001b[0m                \u001b[38;5;129;01mor\u001b[39;00m (\u001b[38;5;28misinstance\u001b[39m(H, Qobj) \u001b[38;5;129;01mand\u001b[39;00m issuper(H))\n\u001b[1;32m   (...)\u001b[0m\n\u001b[0;32m    213\u001b[0m                \u001b[38;5;129;01mor\u001b[39;00m (\u001b[38;5;129;01mnot\u001b[39;00m \u001b[38;5;28misinstance\u001b[39m(H, (Qobj, QobjEvo)) \u001b[38;5;129;01mand\u001b[39;00m callable(H) \u001b[38;5;129;01mand\u001b[39;00m\n\u001b[0;32m    214\u001b[0m                         options\u001b[38;5;241m.\u001b[39mrhs_with_state))\n\u001b[0;32m    216\u001b[0m \u001b[38;5;28;01mif\u001b[39;00m \u001b[38;5;129;01mnot\u001b[39;00m use_mesolve:\n\u001b[1;32m--> 217\u001b[0m     \u001b[38;5;28;01mreturn\u001b[39;00m \u001b[43msesolve\u001b[49m\u001b[43m(\u001b[49m\u001b[43mH\u001b[49m\u001b[43m,\u001b[49m\u001b[43m \u001b[49m\u001b[43mrho0\u001b[49m\u001b[43m,\u001b[49m\u001b[43m \u001b[49m\u001b[43mtlist\u001b[49m\u001b[43m,\u001b[49m\u001b[43m \u001b[49m\u001b[43me_ops\u001b[49m\u001b[38;5;241;43m=\u001b[39;49m\u001b[43me_ops\u001b[49m\u001b[43m,\u001b[49m\u001b[43m \u001b[49m\u001b[43margs\u001b[49m\u001b[38;5;241;43m=\u001b[39;49m\u001b[43margs\u001b[49m\u001b[43m,\u001b[49m\u001b[43m \u001b[49m\u001b[43moptions\u001b[49m\u001b[38;5;241;43m=\u001b[39;49m\u001b[43moptions\u001b[49m\u001b[43m,\u001b[49m\n\u001b[0;32m    218\u001b[0m \u001b[43m                   \u001b[49m\u001b[43mprogress_bar\u001b[49m\u001b[38;5;241;43m=\u001b[39;49m\u001b[43mprogress_bar\u001b[49m\u001b[43m,\u001b[49m\u001b[43m \u001b[49m\u001b[43m_safe_mode\u001b[49m\u001b[38;5;241;43m=\u001b[39;49m\u001b[43m_safe_mode\u001b[49m\u001b[43m)\u001b[49m\n\u001b[0;32m    220\u001b[0m \u001b[38;5;28;01mif\u001b[39;00m isket(rho0):\n\u001b[0;32m    221\u001b[0m     rho0 \u001b[38;5;241m=\u001b[39m ket2dm(rho0)\n",
      "File \u001b[1;32mC:\\Programs\\Anaconda3\\lib\\site-packages\\qutip\\sesolve.py:136\u001b[0m, in \u001b[0;36msesolve\u001b[1;34m(H, psi0, tlist, e_ops, args, options, progress_bar, _safe_mode)\u001b[0m\n\u001b[0;32m    133\u001b[0m     v \u001b[38;5;241m=\u001b[39m psi0\u001b[38;5;241m.\u001b[39mfull()\u001b[38;5;241m.\u001b[39mravel(\u001b[38;5;124m'\u001b[39m\u001b[38;5;124mF\u001b[39m\u001b[38;5;124m'\u001b[39m)\n\u001b[0;32m    134\u001b[0m     func(\u001b[38;5;241m0.\u001b[39m, v, \u001b[38;5;241m*\u001b[39mode_args) \u001b[38;5;241m+\u001b[39m v\n\u001b[1;32m--> 136\u001b[0m res \u001b[38;5;241m=\u001b[39m \u001b[43m_generic_ode_solve\u001b[49m\u001b[43m(\u001b[49m\u001b[43mfunc\u001b[49m\u001b[43m,\u001b[49m\u001b[43m \u001b[49m\u001b[43mode_args\u001b[49m\u001b[43m,\u001b[49m\u001b[43m \u001b[49m\u001b[43mpsi0\u001b[49m\u001b[43m,\u001b[49m\u001b[43m \u001b[49m\u001b[43mtlist\u001b[49m\u001b[43m,\u001b[49m\u001b[43m \u001b[49m\u001b[43me_ops\u001b[49m\u001b[43m,\u001b[49m\u001b[43m \u001b[49m\u001b[43moptions\u001b[49m\u001b[43m,\u001b[49m\n\u001b[0;32m    137\u001b[0m \u001b[43m                         \u001b[49m\u001b[43mprogress_bar\u001b[49m\u001b[43m,\u001b[49m\u001b[43m \u001b[49m\u001b[43mdims\u001b[49m\u001b[38;5;241;43m=\u001b[39;49m\u001b[43mpsi0\u001b[49m\u001b[38;5;241;43m.\u001b[39;49m\u001b[43mdims\u001b[49m\u001b[43m)\u001b[49m\n\u001b[0;32m    138\u001b[0m \u001b[38;5;28;01mif\u001b[39;00m e_ops_dict:\n\u001b[0;32m    139\u001b[0m     res\u001b[38;5;241m.\u001b[39mexpect \u001b[38;5;241m=\u001b[39m {e: res\u001b[38;5;241m.\u001b[39mexpect[n]\n\u001b[0;32m    140\u001b[0m                   \u001b[38;5;28;01mfor\u001b[39;00m n, e \u001b[38;5;129;01min\u001b[39;00m \u001b[38;5;28menumerate\u001b[39m(e_ops_dict\u001b[38;5;241m.\u001b[39mkeys())}\n",
      "File \u001b[1;32mC:\\Programs\\Anaconda3\\lib\\site-packages\\qutip\\sesolve.py:381\u001b[0m, in \u001b[0;36m_generic_ode_solve\u001b[1;34m(func, ode_args, psi0, tlist, e_ops, opt, progress_bar, dims)\u001b[0m\n\u001b[0;32m    377\u001b[0m             output\u001b[38;5;241m.\u001b[39mexpect[m][t_idx] \u001b[38;5;241m=\u001b[39m cy_expect_psi(e_ops_data[m], cdata,\n\u001b[0;32m    378\u001b[0m                                                     e_ops[m]\u001b[38;5;241m.\u001b[39misherm)\n\u001b[0;32m    380\u001b[0m     \u001b[38;5;28;01mif\u001b[39;00m t_idx \u001b[38;5;241m<\u001b[39m n_tsteps \u001b[38;5;241m-\u001b[39m \u001b[38;5;241m1\u001b[39m:\n\u001b[1;32m--> 381\u001b[0m         \u001b[43mr\u001b[49m\u001b[38;5;241;43m.\u001b[39;49m\u001b[43mintegrate\u001b[49m\u001b[43m(\u001b[49m\u001b[43mr\u001b[49m\u001b[38;5;241;43m.\u001b[39;49m\u001b[43mt\u001b[49m\u001b[43m \u001b[49m\u001b[38;5;241;43m+\u001b[39;49m\u001b[43m \u001b[49m\u001b[43mdt\u001b[49m\u001b[43m[\u001b[49m\u001b[43mt_idx\u001b[49m\u001b[43m]\u001b[49m\u001b[43m)\u001b[49m\n\u001b[0;32m    383\u001b[0m progress_bar\u001b[38;5;241m.\u001b[39mfinished()\n\u001b[0;32m    385\u001b[0m \u001b[38;5;28;01mif\u001b[39;00m opt\u001b[38;5;241m.\u001b[39mstore_final_state:\n",
      "File \u001b[1;32mC:\\Programs\\Anaconda3\\lib\\site-packages\\scipy\\integrate\\_ode.py:433\u001b[0m, in \u001b[0;36mode.integrate\u001b[1;34m(self, t, step, relax)\u001b[0m\n\u001b[0;32m    430\u001b[0m     mth \u001b[38;5;241m=\u001b[39m \u001b[38;5;28mself\u001b[39m\u001b[38;5;241m.\u001b[39m_integrator\u001b[38;5;241m.\u001b[39mrun\n\u001b[0;32m    432\u001b[0m \u001b[38;5;28;01mtry\u001b[39;00m:\n\u001b[1;32m--> 433\u001b[0m     \u001b[38;5;28mself\u001b[39m\u001b[38;5;241m.\u001b[39m_y, \u001b[38;5;28mself\u001b[39m\u001b[38;5;241m.\u001b[39mt \u001b[38;5;241m=\u001b[39m \u001b[43mmth\u001b[49m\u001b[43m(\u001b[49m\u001b[38;5;28;43mself\u001b[39;49m\u001b[38;5;241;43m.\u001b[39;49m\u001b[43mf\u001b[49m\u001b[43m,\u001b[49m\u001b[43m \u001b[49m\u001b[38;5;28;43mself\u001b[39;49m\u001b[38;5;241;43m.\u001b[39;49m\u001b[43mjac\u001b[49m\u001b[43m \u001b[49m\u001b[38;5;129;43;01mor\u001b[39;49;00m\u001b[43m \u001b[49m\u001b[43m(\u001b[49m\u001b[38;5;28;43;01mlambda\u001b[39;49;00m\u001b[43m:\u001b[49m\u001b[43m \u001b[49m\u001b[38;5;28;43;01mNone\u001b[39;49;00m\u001b[43m)\u001b[49m\u001b[43m,\u001b[49m\n\u001b[0;32m    434\u001b[0m \u001b[43m                          \u001b[49m\u001b[38;5;28;43mself\u001b[39;49m\u001b[38;5;241;43m.\u001b[39;49m\u001b[43m_y\u001b[49m\u001b[43m,\u001b[49m\u001b[43m \u001b[49m\u001b[38;5;28;43mself\u001b[39;49m\u001b[38;5;241;43m.\u001b[39;49m\u001b[43mt\u001b[49m\u001b[43m,\u001b[49m\u001b[43m \u001b[49m\u001b[43mt\u001b[49m\u001b[43m,\u001b[49m\n\u001b[0;32m    435\u001b[0m \u001b[43m                          \u001b[49m\u001b[38;5;28;43mself\u001b[39;49m\u001b[38;5;241;43m.\u001b[39;49m\u001b[43mf_params\u001b[49m\u001b[43m,\u001b[49m\u001b[43m \u001b[49m\u001b[38;5;28;43mself\u001b[39;49m\u001b[38;5;241;43m.\u001b[39;49m\u001b[43mjac_params\u001b[49m\u001b[43m)\u001b[49m\n\u001b[0;32m    436\u001b[0m \u001b[38;5;28;01mexcept\u001b[39;00m \u001b[38;5;167;01mSystemError\u001b[39;00m \u001b[38;5;28;01mas\u001b[39;00m e:\n\u001b[0;32m    437\u001b[0m     \u001b[38;5;66;03m# f2py issue with tuple returns, see ticket 1187.\u001b[39;00m\n\u001b[0;32m    438\u001b[0m     \u001b[38;5;28;01mraise\u001b[39;00m \u001b[38;5;167;01mValueError\u001b[39;00m(\n\u001b[0;32m    439\u001b[0m         \u001b[38;5;124m'\u001b[39m\u001b[38;5;124mFunction to integrate must not return a tuple.\u001b[39m\u001b[38;5;124m'\u001b[39m\n\u001b[0;32m    440\u001b[0m     ) \u001b[38;5;28;01mfrom\u001b[39;00m \u001b[38;5;21;01me\u001b[39;00m\n",
      "File \u001b[1;32mC:\\Programs\\Anaconda3\\lib\\site-packages\\scipy\\integrate\\_ode.py:1009\u001b[0m, in \u001b[0;36mvode.run\u001b[1;34m(self, f, jac, y0, t0, t1, f_params, jac_params)\u001b[0m\n\u001b[0;32m   1005\u001b[0m     jac \u001b[38;5;241m=\u001b[39m _vode_banded_jac_wrapper(jac, \u001b[38;5;28mself\u001b[39m\u001b[38;5;241m.\u001b[39mml, jac_params)\n\u001b[0;32m   1007\u001b[0m args \u001b[38;5;241m=\u001b[39m ((f, jac, y0, t0, t1) \u001b[38;5;241m+\u001b[39m \u001b[38;5;28mtuple\u001b[39m(\u001b[38;5;28mself\u001b[39m\u001b[38;5;241m.\u001b[39mcall_args) \u001b[38;5;241m+\u001b[39m\n\u001b[0;32m   1008\u001b[0m         (f_params, jac_params))\n\u001b[1;32m-> 1009\u001b[0m y1, t, istate \u001b[38;5;241m=\u001b[39m \u001b[38;5;28;43mself\u001b[39;49m\u001b[38;5;241;43m.\u001b[39;49m\u001b[43mrunner\u001b[49m\u001b[43m(\u001b[49m\u001b[38;5;241;43m*\u001b[39;49m\u001b[43margs\u001b[49m\u001b[43m)\u001b[49m\n\u001b[0;32m   1010\u001b[0m \u001b[38;5;28mself\u001b[39m\u001b[38;5;241m.\u001b[39mistate \u001b[38;5;241m=\u001b[39m istate\n\u001b[0;32m   1011\u001b[0m \u001b[38;5;28;01mif\u001b[39;00m istate \u001b[38;5;241m<\u001b[39m \u001b[38;5;241m0\u001b[39m:\n",
      "File \u001b[1;32mC:\\Programs\\Anaconda3\\lib\\site-packages\\qutip\\cy\\cqobjevo.pyx:212\u001b[0m, in \u001b[0;36mqutip.cy.cqobjevo.CQobjEvo.mul_vec\u001b[1;34m()\u001b[0m\n",
      "File \u001b[1;32mC:\\Programs\\Anaconda3\\lib\\site-packages\\qutip\\cy\\cqobjevo.pyx:679\u001b[0m, in \u001b[0;36mqutip.cy.cqobjevo.CQobjEvoTd._mul_vec\u001b[1;34m()\u001b[0m\n",
      "File \u001b[1;32mC:\\Programs\\Anaconda3\\lib\\site-packages\\qutip\\cy\\cqobjevo.pyx:293\u001b[0m, in \u001b[0;36mqutip.cy.cqobjevo.CQobjEvo._factor_dyn\u001b[1;34m()\u001b[0m\n",
      "File \u001b[1;32mC:\\Programs\\Anaconda3\\lib\\site-packages\\qutip\\cy\\cqobjevo.pyx:278\u001b[0m, in \u001b[0;36mqutip.cy.cqobjevo.CQobjEvo._factor\u001b[1;34m()\u001b[0m\n",
      "File \u001b[1;32mC:\\Programs\\Anaconda3\\lib\\site-packages\\qutip\\qobjevo.py:1809\u001b[0m, in \u001b[0;36m_UnitedFuncCaller.__call__\u001b[1;34m(self, t, args)\u001b[0m\n\u001b[0;32m   1808\u001b[0m \u001b[38;5;28;01mdef\u001b[39;00m \u001b[38;5;21m__call__\u001b[39m(\u001b[38;5;28mself\u001b[39m, t, args\u001b[38;5;241m=\u001b[39m{}):\n\u001b[1;32m-> 1809\u001b[0m     \u001b[38;5;28;01mif\u001b[39;00m args:\n\u001b[0;32m   1810\u001b[0m         now_args \u001b[38;5;241m=\u001b[39m \u001b[38;5;28mself\u001b[39m\u001b[38;5;241m.\u001b[39margs\u001b[38;5;241m.\u001b[39mcopy()\n\u001b[0;32m   1811\u001b[0m         now_args\u001b[38;5;241m.\u001b[39mupdate(args)\n",
      "\u001b[1;31mKeyboardInterrupt\u001b[0m: "
     ]
    }
   ],
   "source": [
    "my_noise_values = np.array([0.0001, 0.001, 0.01])\n",
    "reps = 50 #iterations of random numbers generated\n",
    "fidelities = np.zeros((len(my_noise_values), reps, len(times)))\n",
    "errors = np.zeros((len(my_noise_values), reps, len(times)))\n",
    "\n",
    "for p, noise in enumerate(tqdm(my_noise_values)):\n",
    "    for m, j in enumerate(tqdm(range(reps))):\n",
    "        num = np.random.randn(1)\n",
    "        epsilon = noise * num[0] * 2 * np.pi\n",
    "\n",
    "        sweet_spot = np.pi + epsilon\n",
    "\n",
    "        for n, i in enumerate(range(len(times))):\n",
    "            fids, states = gate_pulse_noise(lambdas[n],Eds[n],times[n],psi=initRho,sweet_spot=sweet_spot)\n",
    "            fidelities[p,m,n] = fids.real\n",
    "            errors[p,m,n] = 1 - fids.real"
   ]
  },
  {
   "cell_type": "markdown",
   "id": "4d5b40eb",
   "metadata": {},
   "source": [
    "## Average over noise iterations"
   ]
  },
  {
   "cell_type": "code",
   "execution_count": 16,
   "id": "ecd87e0a",
   "metadata": {},
   "outputs": [],
   "source": [
    "fids_compact = np.mean(fidelities, axis=1)\n",
    "errors_compact = np.mean(errors, axis=1)"
   ]
  },
  {
   "cell_type": "markdown",
   "id": "1f3d3c61",
   "metadata": {},
   "source": [
    "# Export data"
   ]
  },
  {
   "cell_type": "code",
   "execution_count": 24,
   "id": "7c9f01bf",
   "metadata": {},
   "outputs": [],
   "source": [
    "data = {'Fidelity_ep0001': fids_compact[0],\n",
    "        'Fidelity_ep001': fids_compact[1],\n",
    "        'Fidelity_ep01': fids_compact[2],\n",
    "        'Error_ep0001': errors_compact[0],\n",
    "        'Error_ep001': errors_compact[1],\n",
    "        'Error_ep01': errors_compact[2]}\n",
    "\n",
    "df = pd.DataFrame(data)\n",
    "df.to_csv('H:/taryn-phd/SQGwNoise.csv')"
   ]
  },
  {
   "cell_type": "markdown",
   "id": "228217a6",
   "metadata": {},
   "source": [
    "# Plot"
   ]
  },
  {
   "cell_type": "code",
   "execution_count": 31,
   "id": "2ef7ad85",
   "metadata": {},
   "outputs": [],
   "source": [
    "blues = cm.get_cmap('Blues', 10)\n",
    "greens = cm.get_cmap('Greens', 10)"
   ]
  },
  {
   "cell_type": "code",
   "execution_count": 54,
   "id": "abac254b",
   "metadata": {},
   "outputs": [
    {
     "data": {
      "image/png": "[encoded data removed]",
      "text/plain": [
       "<Figure size 851.143x500 with 1 Axes>"
      ]
     },
     "metadata": {},
     "output_type": "display_data"
    }
   ],
   "source": [
    "# set number of rows and cols\n",
    "fig, ax = plt.subplots(ncols=1, nrows=1, dpi=250)\n",
    "\n",
    "# set plot limits and spacing\n",
    "fig.subplots_adjust(bottom = 0.16, top=0.99, left=0.16, right=0.9, wspace=0.3, hspace=0.3)\n",
    "\n",
    "# fix to single column page width\n",
    "fig.set_size_inches(3.40457, 2.0)\n",
    "\n",
    "# font size 8\n",
    "font = {'size' : 8}\n",
    "plt.rc('font', **font)\n",
    "\n",
    "for axis in ['top','bottom','left','right']:\n",
    "    ax.spines[axis].set_linewidth(0.5)\n",
    "ax.tick_params(width=0.5, which='both')\n",
    "ax.tick_params(length=2.5, which='major')\n",
    "ax.tick_params(length=1.5, which='minor')\n",
    "\n",
    "ax.plot(times, errors_compact[2], color=blues(0.8), label = r'$\\epsilon$ = 0.01')\n",
    "ax.plot(times, errors_compact[1], color=blues(0.6), label = r'$\\epsilon$ = 0.001')\n",
    "ax.plot(times, errors_compact[0], color=blues(0.4), label = r'$\\epsilon$ = 0.0001')\n",
    "ax.set_xlabel(r'Gate Time (ns)')\n",
    "ax.set_ylabel(r'Gate Error')\n",
    "ax.set_yscale('log')\n",
    "ax.set_xlim(10,50)\n",
    "ax.set_ylim(1*10**(-8), 1e0)\n",
    "ax.legend(loc = 'right',bbox_to_anchor=(0.42, 0.77), handletextpad=0.5, frameon=False)\n",
    "plt.show()"
   ]
  }
 ],
 "metadata": {
  "kernelspec": {
   "display_name": "Python 3",
   "language": "python",
   "name": "python3"
  },
  "language_info": {
   "codemirror_mode": {
    "name": "ipython",
    "version": 3
   },
   "file_extension": ".py",
   "mimetype": "text/x-python",
   "name": "python",
   "nbconvert_exporter": "python",
   "pygments_lexer": "ipython3",
   "version": "3.8.8"
  },
  "latex_envs": {
   "LaTeX_envs_menu_present": true,
   "autoclose": false,
   "autocomplete": true,
   "bibliofile": "biblio.bib",
   "cite_by": "apalike",
   "current_citInitial": 1,
   "eqLabelWithNumbers": true,
   "eqNumInitial": 1,
   "hotkeys": {
    "equation": "Ctrl-E",
    "itemize": "Ctrl-I"
   },
   "labels_anchors": false,
   "latex_user_defs": false,
   "report_style_numbering": false,
   "user_envs_cfg": false
  },
  "toc": {
   "base_numbering": 1,
   "nav_menu": {},
   "number_sections": true,
   "sideBar": true,
   "skip_h1_title": false,
   "title_cell": "Table of Contents",
   "title_sidebar": "Contents",
   "toc_cell": false,
   "toc_position": {},
   "toc_section_display": true,
   "toc_window_display": true
  }
 },
 "nbformat": 4,
 "nbformat_minor": 5
}

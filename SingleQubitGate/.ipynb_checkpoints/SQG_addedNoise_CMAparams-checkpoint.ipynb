{
 "cells": [
  {
   "cell_type": "markdown",
   "id": "95ea3a73",
   "metadata": {},
   "source": [
    "# Imports"
   ]
  },
  {
   "cell_type": "code",
   "execution_count": null,
   "id": "76f02dce",
   "metadata": {},
   "outputs": [],
   "source": [
    "%matplotlib inline\n",
    "import SQGfunctions as fn\n",
    "from SQGfunctions import *\n",
    "blues = mpl.colormaps['Blues']\n",
    "greens = mpl.colormaps['Greens']"
   ]
  },
  {
   "cell_type": "markdown",
   "id": "27b9226c",
   "metadata": {},
   "source": [
    "# Import data"
   ]
  },
  {
   "cell_type": "code",
   "execution_count": null,
   "id": "ae42f7a1",
   "metadata": {},
   "outputs": [],
   "source": [
    "df = pd.read_csv(r'H:/taryn-phd/sqgData/DRAG_0shift_CMA.csv')\n",
    "fid = df['FidelityCMA'].to_numpy()\n",
    "error = df['ErrorCMA'].to_numpy()\n",
    "lambdas = df['LambdasCMA'].to_numpy()\n",
    "Eds = df['EdsCMA'].to_numpy()\n",
    "times = np.linspace(10,50,41)"
   ]
  },
  {
   "cell_type": "markdown",
   "id": "42dc5adb",
   "metadata": {},
   "source": [
    "# Single gate at sweet spot with added quasistatic flux noise"
   ]
  },
  {
   "cell_type": "code",
   "execution_count": null,
   "id": "26137468",
   "metadata": {},
   "outputs": [],
   "source": [
    "#collapse operators\n",
    "c_op1 = []\n",
    "c_op2 = []\n",
    "\n",
    "H_sys,evals,evecs = fluxonium_system(sweet_spot,Ej,Ec,El,n_op,phi_op,H_lc,H_i)\n",
    "Es = np.real(qubit_energies(H_sys,evals,evecs))\n",
    "omega_drive = (Es[2]-Es[0])\n",
    "drive_freq = omega_drive #drive frequency at sweet spot"
   ]
  },
  {
   "cell_type": "code",
   "execution_count": null,
   "id": "c50bfb43",
   "metadata": {},
   "outputs": [],
   "source": [
    "def gate_pulse_noise(lamb,Ed,gatetime,psi,sweet_spot=np.pi):\n",
    "    #calculations at sweet spot - assumed parameters\n",
    "    time = np.linspace(0, gatetime, 101)\n",
    "    H_sys,evals,evecs = fluxonium_system(np.pi,Ej,Ec,El,n_op,phi_op,H_lc,H_i)\n",
    "    Es = np.real(qubit_energies(H_sys,evals,evecs))\n",
    "    omega_drive = (Es[2]-Es[0])\n",
    "    drive_freq = omega_drive\n",
    "    alpha = (Es[4] - Es[2]) - (Es[2] - Es[0])\n",
    "    drive_me, trunc_drive_op = matrix_element(drive_op,H_sys,evals,evecs)\n",
    "    tgate = gatetime\n",
    "    \n",
    "    #calculation of system parameters at \"sweet-spot\" where noise can be added\n",
    "    H_sys,evals,evecs = fluxonium_system(sweet_spot,Ej,Ec,El,n_op,phi_op,H_lc,H_i)\n",
    "    Es = np.real(qubit_energies(H_sys,evals,evecs))\n",
    "    \n",
    "    H_total = [Qobj(np.diag(Es)), [Ed*trunc_drive_op, H_drive_TD_no_fp]]\n",
    "    states = time_evolve_no_fp(H_total, initialState, time, args={'gate_time': tgate, 'lamb': lamb,\n",
    "                                                    'omega_drive': drive_freq, \n",
    "                                                    'alpha': alpha})[1:]\n",
    "    fidelity = np.abs((expectRho.dag()*states[-1]).full()[0,0])**2\n",
    "    print('')\n",
    "    print('lambda',lamb)\n",
    "    print('drive',Ed)\n",
    "    print('fidelity',fidelity)\n",
    "    return fidelity, states"
   ]
  },
  {
   "cell_type": "code",
   "execution_count": null,
   "id": "cb89023f",
   "metadata": {},
   "outputs": [],
   "source": [
    "my_noise_values = np.array([0.0001, 0.001, 0.01])\n",
    "reps = 50 #iterations of random numbers generated\n",
    "fidelities = np.zeros((len(my_noise_values), reps, len(times)))\n",
    "errors = np.zeros((len(my_noise_values), reps, len(times)))\n",
    "\n",
    "for p, noise in enumerate(tqdm(my_noise_values)):\n",
    "    for m, j in enumerate(tqdm(range(reps))):\n",
    "        num = np.random.randn(1)\n",
    "        xi = noise * num[0] * 2 * np.pi\n",
    "\n",
    "        sweet_spot = np.pi + xi\n",
    "\n",
    "        for n, i in enumerate(range(len(times))):\n",
    "            fids, states = gate_pulse_noise(lambdas[n],Eds[n],times[n],psi=initRho,sweet_spot=sweet_spot)\n",
    "            fidelities[p,m,n] = fids.real\n",
    "            errors[p,m,n] = 1 - fids.real"
   ]
  },
  {
   "cell_type": "markdown",
   "id": "4d5b40eb",
   "metadata": {},
   "source": [
    "## Average over noise iterations"
   ]
  },
  {
   "cell_type": "code",
   "execution_count": null,
   "id": "ecd87e0a",
   "metadata": {},
   "outputs": [],
   "source": [
    "fids_compact = np.mean(fidelities, axis=1)\n",
    "errors_compact = np.mean(errors, axis=1)"
   ]
  },
  {
   "cell_type": "markdown",
   "id": "1f3d3c61",
   "metadata": {},
   "source": [
    "# Export data"
   ]
  },
  {
   "cell_type": "code",
   "execution_count": null,
   "id": "7c9f01bf",
   "metadata": {},
   "outputs": [],
   "source": [
    "data = {'Fidelity_xi0001': fids_compact[0],\n",
    "        'Fidelity_xi001': fids_compact[1],\n",
    "        'Fidelity_xi01': fids_compact[2],\n",
    "        'Error_xi0001': errors_compact[0],\n",
    "        'Error_xi001': errors_compact[1],\n",
    "        'Error_xi01': errors_compact[2]}\n",
    "\n",
    "df = pd.DataFrame(data)\n",
    "df.to_csv('filepath.csv')"
   ]
  },
  {
   "cell_type": "markdown",
   "id": "228217a6",
   "metadata": {},
   "source": [
    "# Plot"
   ]
  },
  {
   "cell_type": "code",
   "execution_count": null,
   "id": "abac254b",
   "metadata": {},
   "outputs": [],
   "source": [
    "# set number of rows and cols\n",
    "fig, ax = plt.subplots(ncols=1, nrows=1, dpi=250)\n",
    "\n",
    "# set plot limits and spacing\n",
    "fig.subplots_adjust(bottom = 0.16, top=0.99, left=0.16, right=0.9, wspace=0.3, hspace=0.3)\n",
    "\n",
    "# fix to single column page width\n",
    "fig.set_size_inches(3.40457, 2.0)\n",
    "\n",
    "# font size 8\n",
    "font = {'size' : 8}\n",
    "plt.rc('font', **font)\n",
    "\n",
    "for axis in ['top','bottom','left','right']:\n",
    "    ax.spines[axis].set_linewidth(0.5)\n",
    "ax.tick_params(width=0.5, which='both')\n",
    "ax.tick_params(length=2.5, which='major')\n",
    "ax.tick_params(length=1.5, which='minor')\n",
    "\n",
    "ax.plot(times, errors_compact[2], color=blues(0.8), label = r'$\\xi$ = 0.01')\n",
    "ax.plot(times, errors_compact[1], color=blues(0.6), label = r'$\\xi$ = 0.001')\n",
    "ax.plot(times, errors_compact[0], color=blues(0.4), label = r'$\\xi$ = 0.0001')\n",
    "ax.set_xlabel(r'Gate Time (ns)')\n",
    "ax.set_ylabel(r'Gate Error')\n",
    "ax.set_yscale('log')\n",
    "ax.set_xlim(10,50)\n",
    "ax.set_ylim(1*10**(-8), 1e0)\n",
    "ax.legend(loc = 'right',bbox_to_anchor=(0.42, 0.77), handletextpad=0.5, frameon=False)\n",
    "plt.show()"
   ]
  }
 ],
 "metadata": {
  "kernelspec": {
   "display_name": "Python 3",
   "language": "python",
   "name": "python3"
  },
  "language_info": {
   "codemirror_mode": {
    "name": "ipython",
    "version": 3
   },
   "file_extension": ".py",
   "mimetype": "text/x-python",
   "name": "python",
   "nbconvert_exporter": "python",
   "pygments_lexer": "ipython3",
   "version": "3.8.8"
  },
  "latex_envs": {
   "LaTeX_envs_menu_present": true,
   "autoclose": false,
   "autocomplete": true,
   "bibliofile": "biblio.bib",
   "cite_by": "apalike",
   "current_citInitial": 1,
   "eqLabelWithNumbers": true,
   "eqNumInitial": 1,
   "hotkeys": {
    "equation": "Ctrl-E",
    "itemize": "Ctrl-I"
   },
   "labels_anchors": false,
   "latex_user_defs": false,
   "report_style_numbering": false,
   "user_envs_cfg": false
  },
  "toc": {
   "base_numbering": 1,
   "nav_menu": {},
   "number_sections": true,
   "sideBar": true,
   "skip_h1_title": false,
   "title_cell": "Table of Contents",
   "title_sidebar": "Contents",
   "toc_cell": false,
   "toc_position": {},
   "toc_section_display": true,
   "toc_window_display": true
  }
 },
 "nbformat": 4,
 "nbformat_minor": 5
}

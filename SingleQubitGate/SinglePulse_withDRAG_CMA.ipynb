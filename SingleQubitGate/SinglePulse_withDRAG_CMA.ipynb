{
 "cells": [
  {
   "cell_type": "markdown",
   "id": "95ea3a73",
   "metadata": {},
   "source": [
    "# Imports and initialization"
   ]
  },
  {
   "cell_type": "code",
   "execution_count": null,
   "id": "76f02dce",
   "metadata": {},
   "outputs": [],
   "source": [
    "%matplotlib inline\n",
    "import SQGfunctions as fn\n",
    "from SQGfunctions import *"
   ]
  },
  {
   "cell_type": "markdown",
   "id": "2c824e1f",
   "metadata": {},
   "source": [
    "## Initialize collapse operators and get drive frequency"
   ]
  },
  {
   "cell_type": "code",
   "execution_count": null,
   "id": "6acf3ba8",
   "metadata": {},
   "outputs": [],
   "source": [
    "#collapse operators\n",
    "c_op1 = []\n",
    "c_op2 = []\n",
    "\n",
    "#energies and sweet spot defined in SQGfunctions.py file\n",
    "H_sys,evals,evecs = fluxonium_system(sweet_spot,Ej,Ec,El,n_op,phi_op,H_lc,H_i)\n",
    "Es = np.real(qubit_energies(H_sys,evals,evecs))\n",
    "omega_drive = (Es[2]-Es[0])\n",
    "drive_freq = omega_drive #define drive frequency"
   ]
  },
  {
   "cell_type": "markdown",
   "id": "dd857f21-0b72-49ef-b0e7-a7b111cb83dc",
   "metadata": {},
   "source": [
    "# Optimization"
   ]
  },
  {
   "cell_type": "markdown",
   "id": "a152130d-d0e8-44b2-8874-fd8fcf23430c",
   "metadata": {},
   "source": [
    "## Loop over gate time"
   ]
  },
  {
   "cell_type": "code",
   "execution_count": null,
   "id": "59a49b57",
   "metadata": {},
   "outputs": [],
   "source": [
    "fids = []\n",
    "errors = []\n",
    "lambdas = [] #DRAG scaling factor\n",
    "Eds = [] #drive amplitude\n",
    "\n",
    "bnds = ((-3, 3), (0, 2)) #bounds, upper bound for drive amplitude estimated from analytic calculation\n",
    "x_start = [0.5,1.5]\n",
    "sigma_start = 0.5\n",
    "\n",
    "times = np.linspace(10,50,41)\n",
    "for t in times:\n",
    "    optfunc = lambda x: 1-gate_pulse_no_fp(x[0],x[1],gatetime=t,drivefrequency=drive_freq,psi=initRho)[0]\n",
    "    opts = cma.CMAOptions()\n",
    "    #bounds for drive strength estimated from analytic calculation\n",
    "    if t <= 20:\n",
    "        x_start = [0.5, 1.5]\n",
    "        bnds = ((-3, 3), (0, 2))\n",
    "        opts.set(\"bounds\", [(bnds[0][0], bnds[1][0]),(bnds[0][1], bnds[1][1])])\n",
    "    elif t <= 30:\n",
    "        x_start = [0.5, 0.75]\n",
    "        bnds = ((-3, 3), (0, 1))\n",
    "        opts.set(\"bounds\", [(bnds[0][0], bnds[1][0]),(bnds[0][1], bnds[1][1])])\n",
    "    elif t <= 40:\n",
    "        x_start = [0.5, 0.5]\n",
    "        bnds = ((-3, 3), (0, 0.7))\n",
    "        opts.set(\"bounds\", [(bnds[0][0], bnds[1][0]),(bnds[0][1], bnds[1][1])])\n",
    "    else:\n",
    "        x_start = [0.5, 0.25]\n",
    "        bnds = ((-3, 3), (0, 0.5))\n",
    "        opts.set(\"bounds\", [(bnds[0][0], bnds[1][0]),(bnds[0][1], bnds[1][1])]) \n",
    "    opts.set('maxfevals', 1000)\n",
    "    result = cma.fmin(optfunc, x0=x_start, sigma0=sigma_start, options=opts)\n",
    "    result_best = vars(result[-2].best)\n",
    "    values = result_best.get('x')\n",
    "    error = result_best.get('f')\n",
    "    errors.append(error)\n",
    "    fids.append(1-error)\n",
    "    lambdas.append(values[0])\n",
    "    Eds.append(values[1])"
   ]
  },
  {
   "cell_type": "markdown",
   "id": "511c620e-cee6-45b7-ac0d-d6e21600ba93",
   "metadata": {},
   "source": [
    "# Export Data"
   ]
  },
  {
   "cell_type": "code",
   "execution_count": null,
   "id": "1bf59768-eeb3-4cde-912c-e2780bb08a91",
   "metadata": {
    "scrolled": true
   },
   "outputs": [],
   "source": [
    "data = {'FidelityCMA': fids,\n",
    "        'ErrorCMA': errors,\n",
    "        'LambdasCMA': lambdas,\n",
    "        'EdsCMA': Eds}\n",
    "\n",
    "df = pd.DataFrame(data)\n",
    "df.to_csv('\\filepath\\filename.csv')"
   ]
  }
 ],
 "metadata": {
  "kernelspec": {
   "display_name": "Python 3",
   "language": "python",
   "name": "python3"
  },
  "language_info": {
   "codemirror_mode": {
    "name": "ipython",
    "version": 3
   },
   "file_extension": ".py",
   "mimetype": "text/x-python",
   "name": "python",
   "nbconvert_exporter": "python",
   "pygments_lexer": "ipython3",
   "version": "3.8.8"
  },
  "latex_envs": {
   "LaTeX_envs_menu_present": true,
   "autoclose": false,
   "autocomplete": true,
   "bibliofile": "biblio.bib",
   "cite_by": "apalike",
   "current_citInitial": 1,
   "eqLabelWithNumbers": true,
   "eqNumInitial": 1,
   "hotkeys": {
    "equation": "Ctrl-E",
    "itemize": "Ctrl-I"
   },
   "labels_anchors": false,
   "latex_user_defs": false,
   "report_style_numbering": false,
   "user_envs_cfg": false
  },
  "toc": {
   "base_numbering": 1,
   "nav_menu": {},
   "number_sections": true,
   "sideBar": true,
   "skip_h1_title": false,
   "title_cell": "Table of Contents",
   "title_sidebar": "Contents",
   "toc_cell": false,
   "toc_position": {},
   "toc_section_display": true,
   "toc_window_display": true
  }
 },
 "nbformat": 4,
 "nbformat_minor": 5
}
